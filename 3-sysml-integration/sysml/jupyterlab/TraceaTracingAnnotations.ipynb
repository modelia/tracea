{
 "cells": [
  {
   "cell_type": "markdown",
   "metadata": {},
   "source": [
    "This notebook defines a datatype for quality traceability of all SysML elements.\n",
    "\n",
    "1. Definition.\n",
    "2. Usage example.\n",
    "3. Filtering example."
   ]
  },
  {
   "cell_type": "code",
   "execution_count": 11,
   "metadata": {},
   "outputs": [
    {
     "data": {
      "text/plain": [
       "Package TracingAnnotations (502dc9dc-4971-477a-89a0-d40a73c9df44)\n"
      ]
     },
     "execution_count": 11,
     "metadata": {},
     "output_type": "execute_result"
    }
   ],
   "source": [
    "package TracingAnnotations {\n",
    "\t \n",
    "\timport Base::*;\n",
    "\timport ScalarValues::*;\n",
    "\timport Time::TimeInstantValue;\n",
    "\timport IntegerFunctions::*;\n",
    "\t\n",
    "\tattribute def ConfidenceTracing {\n",
    "\t\tattribute confidence : Real;\n",
    "\t\tassert constraint confBtz0n1  { confidence >= 0.0 && confidence <= 1.0 } \n",
    "\t\tattribute description : String;\n",
    "\t\tattribute impact : Anything[*];\n",
    "\t}\n",
    "\t \n",
    "\tattribute def ExplainableTracing {\n",
    "\t\tattribute description : String;\n",
    "\t\tattribute confidence : Real;\n",
    "\t\tattribute evidence : Evidence;\n",
    "\t\tattribute agent : Agent;\n",
    "\t\tattribute impact : Anything[*];\n",
    "\t}  \n",
    "\t\n",
    "\tattribute def Agent {\n",
    "\t\tattribute description : String;\n",
    "\t}\n",
    "\t\n",
    "\tattribute def HumanAgent :> Agent {\n",
    "\t\tattribute role : String;\n",
    "\t}\n",
    "\t\n",
    "\tattribute def MachineAgent :> Agent {\n",
    "\t\tattribute type : String;\n",
    "\t}\n",
    "\t\n",
    "\tattribute def Evidence {\n",
    "\t\tattribute description : String; \n",
    "\t\tattribute confidence : Real; \n",
    "\t} \n",
    "\t\n",
    "\tattribute def AnnotationEvidence :> Evidence {\n",
    "\t\tattribute explanation : String;\n",
    "\t}\n",
    "\t\n",
    "\tattribute def RuleEvidence :> Evidence {\n",
    "\t\tattribute rule : String;\n",
    "\t\tattribute parameters : String[*];\n",
    "\t\tattribute executionDate : TimeInstantValue;\n",
    "\t}\n",
    "\t\n",
    "\tattribute def AIEvidence :> Evidence {\n",
    "\t\tattribute algorithm : String;\n",
    "\t\tattribute parameters : String[*];\n",
    "\t\tattribute executionDate : TimeInstantValue;\n",
    "\t\tattribute precision : Real;\n",
    "\t\tassert constraint { precision >= 0.0 && precision <= 1.0 } \n",
    "\t\tattribute recall : Real;\n",
    "\t\tassert constraint { recall >= 0.0 && recall <= 1.0 } \n",
    "\t}\t\n",
    "    \n",
    "    enum def TraceTypes {type1; type2; type3;}\n",
    "    attribute def TraceType {\n",
    "        attribute type : TraceTypes;\n",
    "    }\n",
    "}"
   ]
  },
  {
   "cell_type": "code",
   "execution_count": 15,
   "metadata": {},
   "outputs": [
    {
     "data": {
      "image/svg+xml": [
       "<?xml version=\"1.0\" encoding=\"UTF-8\" standalone=\"no\"?><svg xmlns=\"http://www.w3.org/2000/svg\" xmlns:xlink=\"http://www.w3.org/1999/xlink\" contentScriptType=\"application/ecmascript\" contentStyleType=\"text/css\" height=\"165px\" preserveAspectRatio=\"none\" style=\"width:1324px;height:165px;\" version=\"1.1\" viewBox=\"0 0 1324 165\" width=\"1324px\" zoomAndPan=\"magnify\"><defs/><g><!--MD5=[fbc87193dbaf4d95561dea2c320d4a47]\n",
       "cluster E1--><a href=\"psysml:cc3eff2d-d2b2-490e-8d0a-753167f3e3b0\" target=\"_top\" title=\"psysml:cc3eff2d-d2b2-490e-8d0a-753167f3e3b0\" xlink:actuate=\"onRequest\" xlink:href=\"psysml:cc3eff2d-d2b2-490e-8d0a-753167f3e3b0\" xlink:show=\"new\" xlink:title=\"psysml:cc3eff2d-d2b2-490e-8d0a-753167f3e3b0\" xlink:type=\"simple\"><polygon fill=\"#FFFFFF\" points=\"16,6,176,6,183,28.2969,1302,28.2969,1302,153,16,153,16,6\" style=\"stroke: #000000; stroke-width: 1.5;\"/><line style=\"stroke: #000000; stroke-width: 1.5;\" x1=\"16\" x2=\"183\" y1=\"28.2969\" y2=\"28.2969\"/><text fill=\"#000000\" font-family=\"sans-serif\" font-size=\"14\" font-weight=\"bold\" lengthAdjust=\"spacingAndGlyphs\" textLength=\"154\" x=\"20\" y=\"20.9951\">TracingAnnotations</text></a><g id=\"E1.E2\"><a href=\"psysml:821bcc69-0d61-40b9-95e7-54e9833eb8c3\" target=\"_top\" title=\"psysml:821bcc69-0d61-40b9-95e7-54e9833eb8c3\" xlink:actuate=\"onRequest\" xlink:href=\"psysml:821bcc69-0d61-40b9-95e7-54e9833eb8c3\" xlink:show=\"new\" xlink:title=\"psysml:821bcc69-0d61-40b9-95e7-54e9833eb8c3\" xlink:type=\"simple\"><rect fill=\"#FFFFFF\" height=\"42.9375\" id=\"E2\" style=\"stroke: #383838; stroke-width: 1.5;\" width=\"127\" x=\"1158.5\" y=\"41\"/><rect fill=\"#F8F8F8\" height=\"37.9375\" style=\"stroke: #383838; stroke-width: 1.5;\" width=\"127\" x=\"1158.5\" y=\"41\"/><text fill=\"#000000\" font-family=\"sans-serif\" font-size=\"12\" font-style=\"italic\" lengthAdjust=\"spacingAndGlyphs\" textLength=\"93\" x=\"1175.5\" y=\"57.1387\">«attribute def»</text><text fill=\"#000000\" font-family=\"sans-serif\" font-size=\"12\" lengthAdjust=\"spacingAndGlyphs\" textLength=\"116\" x=\"1164\" y=\"71.1074\">ConfidenceTracing</text></a></g><g id=\"E1.E3\"><a href=\"psysml:8b2c3465-98d9-42b4-aae4-ce18bbfee080\" target=\"_top\" title=\"psysml:8b2c3465-98d9-42b4-aae4-ce18bbfee080\" xlink:actuate=\"onRequest\" xlink:href=\"psysml:8b2c3465-98d9-42b4-aae4-ce18bbfee080\" xlink:show=\"new\" xlink:title=\"psysml:8b2c3465-98d9-42b4-aae4-ce18bbfee080\" xlink:type=\"simple\"><rect fill=\"#FFFFFF\" height=\"42.9375\" id=\"E3\" style=\"stroke: #383838; stroke-width: 1.5;\" width=\"128\" x=\"995\" y=\"41\"/><rect fill=\"#F8F8F8\" height=\"37.9375\" style=\"stroke: #383838; stroke-width: 1.5;\" width=\"128\" x=\"995\" y=\"41\"/><text fill=\"#000000\" font-family=\"sans-serif\" font-size=\"12\" font-style=\"italic\" lengthAdjust=\"spacingAndGlyphs\" textLength=\"93\" x=\"1012.5\" y=\"57.1387\">«attribute def»</text><text fill=\"#000000\" font-family=\"sans-serif\" font-size=\"12\" lengthAdjust=\"spacingAndGlyphs\" textLength=\"117\" x=\"1000.5\" y=\"71.1074\">ExplainableTracing</text></a></g><g id=\"E1.E4\"><a href=\"psysml:3124cb9d-a2ce-4b30-96de-f82e2db7b1ac\" target=\"_top\" title=\"psysml:3124cb9d-a2ce-4b30-96de-f82e2db7b1ac\" xlink:actuate=\"onRequest\" xlink:href=\"psysml:3124cb9d-a2ce-4b30-96de-f82e2db7b1ac\" xlink:show=\"new\" xlink:title=\"psysml:3124cb9d-a2ce-4b30-96de-f82e2db7b1ac\" xlink:type=\"simple\"><rect fill=\"#FFFFFF\" height=\"42.9375\" id=\"E4\" style=\"stroke: #383838; stroke-width: 1.5;\" width=\"100\" x=\"792\" y=\"94\"/><rect fill=\"#F8F8F8\" height=\"37.9375\" style=\"stroke: #383838; stroke-width: 1.5;\" width=\"100\" x=\"792\" y=\"94\"/><text fill=\"#000000\" font-family=\"sans-serif\" font-size=\"12\" font-style=\"italic\" lengthAdjust=\"spacingAndGlyphs\" textLength=\"93\" x=\"795.5\" y=\"110.1387\">«attribute def»</text><text fill=\"#000000\" font-family=\"sans-serif\" font-size=\"12\" lengthAdjust=\"spacingAndGlyphs\" textLength=\"37\" x=\"823.5\" y=\"124.1074\">Agent</text></a></g><g id=\"E1.E5\"><a href=\"psysml:cee47f27-d3d4-418c-8665-fc75f1c77e1d\" target=\"_top\" title=\"psysml:cee47f27-d3d4-418c-8665-fc75f1c77e1d\" xlink:actuate=\"onRequest\" xlink:href=\"psysml:cee47f27-d3d4-418c-8665-fc75f1c77e1d\" xlink:show=\"new\" xlink:title=\"psysml:cee47f27-d3d4-418c-8665-fc75f1c77e1d\" xlink:type=\"simple\"><rect fill=\"#FFFFFF\" height=\"42.9375\" id=\"E5\" style=\"stroke: #383838; stroke-width: 1.5;\" width=\"100\" x=\"860\" y=\"41\"/><rect fill=\"#F8F8F8\" height=\"37.9375\" style=\"stroke: #383838; stroke-width: 1.5;\" width=\"100\" x=\"860\" y=\"41\"/><text fill=\"#000000\" font-family=\"sans-serif\" font-size=\"12\" font-style=\"italic\" lengthAdjust=\"spacingAndGlyphs\" textLength=\"93\" x=\"863.5\" y=\"57.1387\">«attribute def»</text><text fill=\"#000000\" font-family=\"sans-serif\" font-size=\"12\" lengthAdjust=\"spacingAndGlyphs\" textLength=\"81\" x=\"869.5\" y=\"71.1074\">HumanAgent</text></a></g><g id=\"E1.E6\"><a href=\"psysml:8c0263f0-3fcd-45ae-a5ee-6f59f34e042b\" target=\"_top\" title=\"psysml:8c0263f0-3fcd-45ae-a5ee-6f59f34e042b\" xlink:actuate=\"onRequest\" xlink:href=\"psysml:8c0263f0-3fcd-45ae-a5ee-6f59f34e042b\" xlink:show=\"new\" xlink:title=\"psysml:8c0263f0-3fcd-45ae-a5ee-6f59f34e042b\" xlink:type=\"simple\"><rect fill=\"#FFFFFF\" height=\"42.9375\" id=\"E6\" style=\"stroke: #383838; stroke-width: 1.5;\" width=\"100\" x=\"725\" y=\"41\"/><rect fill=\"#F8F8F8\" height=\"37.9375\" style=\"stroke: #383838; stroke-width: 1.5;\" width=\"100\" x=\"725\" y=\"41\"/><text fill=\"#000000\" font-family=\"sans-serif\" font-size=\"12\" font-style=\"italic\" lengthAdjust=\"spacingAndGlyphs\" textLength=\"93\" x=\"728.5\" y=\"57.1387\">«attribute def»</text><text fill=\"#000000\" font-family=\"sans-serif\" font-size=\"12\" lengthAdjust=\"spacingAndGlyphs\" textLength=\"89\" x=\"730.5\" y=\"71.1074\">MachineAgent</text></a></g><g id=\"E1.E7\"><a href=\"psysml:7c53f897-b7c9-4ca3-aac7-58ed9dbf1c8e\" target=\"_top\" title=\"psysml:7c53f897-b7c9-4ca3-aac7-58ed9dbf1c8e\" xlink:actuate=\"onRequest\" xlink:href=\"psysml:7c53f897-b7c9-4ca3-aac7-58ed9dbf1c8e\" xlink:show=\"new\" xlink:title=\"psysml:7c53f897-b7c9-4ca3-aac7-58ed9dbf1c8e\" xlink:type=\"simple\"><rect fill=\"#FFFFFF\" height=\"42.9375\" id=\"E7\" style=\"stroke: #383838; stroke-width: 1.5;\" width=\"100\" x=\"419\" y=\"94\"/><rect fill=\"#F8F8F8\" height=\"37.9375\" style=\"stroke: #383838; stroke-width: 1.5;\" width=\"100\" x=\"419\" y=\"94\"/><text fill=\"#000000\" font-family=\"sans-serif\" font-size=\"12\" font-style=\"italic\" lengthAdjust=\"spacingAndGlyphs\" textLength=\"93\" x=\"422.5\" y=\"110.1387\">«attribute def»</text><text fill=\"#000000\" font-family=\"sans-serif\" font-size=\"12\" lengthAdjust=\"spacingAndGlyphs\" textLength=\"56\" x=\"441\" y=\"124.1074\">Evidence</text></a></g><g id=\"E1.E8\"><a href=\"psysml:52742e98-7c0c-442b-b472-c0007d6e9877\" target=\"_top\" title=\"psysml:52742e98-7c0c-442b-b472-c0007d6e9877\" xlink:actuate=\"onRequest\" xlink:href=\"psysml:52742e98-7c0c-442b-b472-c0007d6e9877\" xlink:show=\"new\" xlink:title=\"psysml:52742e98-7c0c-442b-b472-c0007d6e9877\" xlink:type=\"simple\"><rect fill=\"#FFFFFF\" height=\"42.9375\" id=\"E8\" style=\"stroke: #383838; stroke-width: 1.5;\" width=\"136\" x=\"554\" y=\"41\"/><rect fill=\"#F8F8F8\" height=\"37.9375\" style=\"stroke: #383838; stroke-width: 1.5;\" width=\"136\" x=\"554\" y=\"41\"/><text fill=\"#000000\" font-family=\"sans-serif\" font-size=\"12\" font-style=\"italic\" lengthAdjust=\"spacingAndGlyphs\" textLength=\"93\" x=\"575.5\" y=\"57.1387\">«attribute def»</text><text fill=\"#000000\" font-family=\"sans-serif\" font-size=\"12\" lengthAdjust=\"spacingAndGlyphs\" textLength=\"125\" x=\"559.5\" y=\"71.1074\">AnnotationEvidence</text></a></g><g id=\"E1.E9\"><a href=\"psysml:79823529-0c2d-4929-b319-b2ba7eb0f462\" target=\"_top\" title=\"psysml:79823529-0c2d-4929-b319-b2ba7eb0f462\" xlink:actuate=\"onRequest\" xlink:href=\"psysml:79823529-0c2d-4929-b319-b2ba7eb0f462\" xlink:show=\"new\" xlink:title=\"psysml:79823529-0c2d-4929-b319-b2ba7eb0f462\" xlink:type=\"simple\"><rect fill=\"#FFFFFF\" height=\"42.9375\" id=\"E9\" style=\"stroke: #383838; stroke-width: 1.5;\" width=\"100\" x=\"419\" y=\"41\"/><rect fill=\"#F8F8F8\" height=\"37.9375\" style=\"stroke: #383838; stroke-width: 1.5;\" width=\"100\" x=\"419\" y=\"41\"/><text fill=\"#000000\" font-family=\"sans-serif\" font-size=\"12\" font-style=\"italic\" lengthAdjust=\"spacingAndGlyphs\" textLength=\"93\" x=\"422.5\" y=\"57.1387\">«attribute def»</text><text fill=\"#000000\" font-family=\"sans-serif\" font-size=\"12\" lengthAdjust=\"spacingAndGlyphs\" textLength=\"83\" x=\"427.5\" y=\"71.1074\">RuleEvidence</text></a></g><g id=\"E1.E10\"><a href=\"psysml:1ec3cc05-9234-4c7f-b375-37f9480b661e\" target=\"_top\" title=\"psysml:1ec3cc05-9234-4c7f-b375-37f9480b661e\" xlink:actuate=\"onRequest\" xlink:href=\"psysml:1ec3cc05-9234-4c7f-b375-37f9480b661e\" xlink:show=\"new\" xlink:title=\"psysml:1ec3cc05-9234-4c7f-b375-37f9480b661e\" xlink:type=\"simple\"><rect fill=\"#FFFFFF\" height=\"42.9375\" id=\"E10\" style=\"stroke: #383838; stroke-width: 1.5;\" width=\"100\" x=\"284\" y=\"41\"/><rect fill=\"#F8F8F8\" height=\"37.9375\" style=\"stroke: #383838; stroke-width: 1.5;\" width=\"100\" x=\"284\" y=\"41\"/><text fill=\"#000000\" font-family=\"sans-serif\" font-size=\"12\" font-style=\"italic\" lengthAdjust=\"spacingAndGlyphs\" textLength=\"93\" x=\"287.5\" y=\"57.1387\">«attribute def»</text><text fill=\"#000000\" font-family=\"sans-serif\" font-size=\"12\" lengthAdjust=\"spacingAndGlyphs\" textLength=\"67\" x=\"300.5\" y=\"71.1074\">AIEvidence</text></a></g><g id=\"E1.E11\"><a href=\"psysml:2cea576f-7622-4a76-b49e-b507ecdf9143\" target=\"_top\" title=\"psysml:2cea576f-7622-4a76-b49e-b507ecdf9143\" xlink:actuate=\"onRequest\" xlink:href=\"psysml:2cea576f-7622-4a76-b49e-b507ecdf9143\" xlink:show=\"new\" xlink:title=\"psysml:2cea576f-7622-4a76-b49e-b507ecdf9143\" xlink:type=\"simple\"><rect fill=\"#FFFFFF\" height=\"42.9375\" id=\"E11\" style=\"stroke: #383838; stroke-width: 1.5;\" width=\"82\" x=\"167\" y=\"41\"/><rect fill=\"#F8F8F8\" height=\"37.9375\" style=\"stroke: #383838; stroke-width: 1.5;\" width=\"82\" x=\"167\" y=\"41\"/><text fill=\"#000000\" font-family=\"sans-serif\" font-size=\"12\" font-style=\"italic\" lengthAdjust=\"spacingAndGlyphs\" textLength=\"73\" x=\"171.5\" y=\"57.1387\">«enum def»</text><text fill=\"#000000\" font-family=\"sans-serif\" font-size=\"12\" lengthAdjust=\"spacingAndGlyphs\" textLength=\"71\" x=\"172.5\" y=\"71.1074\">TraceTypes</text></a></g><g id=\"E1.E12\"><a href=\"psysml:94b89eba-1373-4747-be10-96c8afe81c57\" target=\"_top\" title=\"psysml:94b89eba-1373-4747-be10-96c8afe81c57\" xlink:actuate=\"onRequest\" xlink:href=\"psysml:94b89eba-1373-4747-be10-96c8afe81c57\" xlink:show=\"new\" xlink:title=\"psysml:94b89eba-1373-4747-be10-96c8afe81c57\" xlink:type=\"simple\"><rect fill=\"#FFFFFF\" height=\"42.9375\" id=\"E12\" style=\"stroke: #383838; stroke-width: 1.5;\" width=\"100\" x=\"32\" y=\"41\"/><rect fill=\"#F8F8F8\" height=\"37.9375\" style=\"stroke: #383838; stroke-width: 1.5;\" width=\"100\" x=\"32\" y=\"41\"/><text fill=\"#000000\" font-family=\"sans-serif\" font-size=\"12\" font-style=\"italic\" lengthAdjust=\"spacingAndGlyphs\" textLength=\"93\" x=\"35.5\" y=\"57.1387\">«attribute def»</text><text fill=\"#000000\" font-family=\"sans-serif\" font-size=\"12\" lengthAdjust=\"spacingAndGlyphs\" textLength=\"64\" x=\"50\" y=\"71.1074\">TraceType</text></a></g><!--MD5=[1c62de2aa5b76f0fb657ff8443a1a700]\n",
       "link E5 to E4--><a href=\"psysml:1fae307b-d381-413b-a54b-1b2b6b9504e4\" target=\"_top\" title=\"psysml:1fae307b-d381-413b-a54b-1b2b6b9504e4\" xlink:actuate=\"onRequest\" xlink:href=\"psysml:1fae307b-d381-413b-a54b-1b2b6b9504e4\" xlink:show=\"new\" xlink:title=\"psysml:1fae307b-d381-413b-a54b-1b2b6b9504e4\" xlink:type=\"simple\"><path d=\"M882.34,84.24 C882.21,84.34 882.08,84.44 881.94,84.54 \" fill=\"none\" id=\"E5-&gt;E4\" style=\"stroke: #383838; stroke-width: 1.0;\"/><polygon fill=\"none\" points=\"889.61,87.54,869.41,93.94,881.21,76.34,889.61,87.54\" style=\"stroke: #383838; stroke-width: 1.0;\"/></a><!--MD5=[f667431f98296947986a1a7595a31603]\n",
       "link E6 to E4--><a href=\"psysml:7586c63b-e962-4c71-a815-b951da9c42fd\" target=\"_top\" title=\"psysml:7586c63b-e962-4c71-a815-b951da9c42fd\" xlink:actuate=\"onRequest\" xlink:href=\"psysml:7586c63b-e962-4c71-a815-b951da9c42fd\" xlink:show=\"new\" xlink:title=\"psysml:7586c63b-e962-4c71-a815-b951da9c42fd\" xlink:type=\"simple\"><path d=\"M802.25,84.24 C802.38,84.34 802.51,84.44 802.65,84.54 \" fill=\"none\" id=\"E6-&gt;E4\" style=\"stroke: #383838; stroke-width: 1.0;\"/><polygon fill=\"none\" points=\"803.32,76.26,814.99,93.94,794.84,87.4,803.32,76.26\" style=\"stroke: #383838; stroke-width: 1.0;\"/></a><!--MD5=[bfa3c8b0d15052fdf50ae9310b491027]\n",
       "link E8 to E7--><a href=\"psysml:ac5351a0-1e83-4059-a676-09b1135fdbdb\" target=\"_top\" title=\"psysml:ac5351a0-1e83-4059-a676-09b1135fdbdb\" xlink:actuate=\"onRequest\" xlink:href=\"psysml:ac5351a0-1e83-4059-a676-09b1135fdbdb\" xlink:show=\"new\" xlink:title=\"psysml:ac5351a0-1e83-4059-a676-09b1135fdbdb\" xlink:type=\"simple\"><path d=\"M560.21,84.1 C552.98,86.51 545.58,88.97 538.26,91.41 \" fill=\"none\" id=\"E8-&gt;E7\" style=\"stroke: #383838; stroke-width: 1.0;\"/><polygon fill=\"none\" points=\"540.47,98.06,519.28,97.74,536.04,84.77,540.47,98.06\" style=\"stroke: #383838; stroke-width: 1.0;\"/></a><!--MD5=[cf04703ca05eebef50f1cfe8b03e143b]\n",
       "link E9 to E7--><a href=\"psysml:b4a7142c-3704-4664-96a1-82d8820e852c\" target=\"_top\" title=\"psysml:b4a7142c-3704-4664-96a1-82d8820e852c\" xlink:actuate=\"onRequest\" xlink:href=\"psysml:b4a7142c-3704-4664-96a1-82d8820e852c\" xlink:show=\"new\" xlink:title=\"psysml:b4a7142c-3704-4664-96a1-82d8820e852c\" xlink:type=\"simple\"><path d=\"M469,84.24 C469,84.34 469,84.44 469,84.54 \" fill=\"none\" id=\"E9-&gt;E7\" style=\"stroke: #383838; stroke-width: 1.0;\"/><polygon fill=\"none\" points=\"476,73.94,469,93.94,462,73.94,476,73.94\" style=\"stroke: #383838; stroke-width: 1.0;\"/></a><!--MD5=[a919e0967d6f3de553dc51b9865a1d6d]\n",
       "link E10 to E7--><a href=\"psysml:0d958407-bb0d-4816-94a0-9a77dbdedca1\" target=\"_top\" title=\"psysml:0d958407-bb0d-4816-94a0-9a77dbdedca1\" xlink:actuate=\"onRequest\" xlink:href=\"psysml:0d958407-bb0d-4816-94a0-9a77dbdedca1\" xlink:show=\"new\" xlink:title=\"psysml:0d958407-bb0d-4816-94a0-9a77dbdedca1\" xlink:type=\"simple\"><path d=\"M384.27,82.49 C389.36,84.42 394.6,86.39 399.85,88.38 \" fill=\"none\" id=\"E10-&gt;E7\" style=\"stroke: #383838; stroke-width: 1.0;\"/><polygon fill=\"none\" points=\"402.45,81.88,418.69,95.49,397.51,94.97,402.45,81.88\" style=\"stroke: #383838; stroke-width: 1.0;\"/></a><!--MD5=[a563d584248f3e232489be2ecc361d17]\n",
       "@startuml\r\n",
       "skinparam ranksep 10\r\n",
       "skinparam rectangle {\r\n",
       " backgroundColor<<block>> LightGreen\r\n",
       "}\r\n",
       "skinparam monochrome true\r\n",
       "skinparam classbackgroundcolor white\r\n",
       "skinparam shadowing false\r\n",
       "skinparam wrapWidth 300\r\n",
       "hide circle\r\n",
       "\r\n",
       "package \"TracingAnnotations\" as E1  [[psysml:cc3eff2d-d2b2-490e-8d0a-753167f3e3b0 ]]  {\r\n",
       "def \"ConfidenceTracing\" as E2  <<(T,blue) attribute def>> [[psysml:821bcc69-0d61-40b9-95e7-54e9833eb8c3 ]] \r\n",
       "def \"ExplainableTracing\" as E3  <<(T,blue) attribute def>> [[psysml:8b2c3465-98d9-42b4-aae4-ce18bbfee080 ]] \r\n",
       "def \"Agent\" as E4  <<(T,blue) attribute def>> [[psysml:3124cb9d-a2ce-4b30-96de-f82e2db7b1ac ]] \r\n",
       "def \"HumanAgent\" as E5  <<(T,blue) attribute def>> [[psysml:cee47f27-d3d4-418c-8665-fc75f1c77e1d ]] \r\n",
       "def \"MachineAgent\" as E6  <<(T,blue) attribute def>> [[psysml:8c0263f0-3fcd-45ae-a5ee-6f59f34e042b ]] \r\n",
       "def \"Evidence\" as E7  <<(T,blue) attribute def>> [[psysml:7c53f897-b7c9-4ca3-aac7-58ed9dbf1c8e ]] \r\n",
       "def \"AnnotationEvidence\" as E8  <<(T,blue) attribute def>> [[psysml:52742e98-7c0c-442b-b472-c0007d6e9877 ]] \r\n",
       "def \"RuleEvidence\" as E9  <<(T,blue) attribute def>> [[psysml:79823529-0c2d-4929-b319-b2ba7eb0f462 ]] \r\n",
       "def \"AIEvidence\" as E10  <<(T,blue) attribute def>> [[psysml:1ec3cc05-9234-4c7f-b375-37f9480b661e ]] \r\n",
       "def \"TraceTypes\" as E11  <<(T,blue) enum def>> [[psysml:2cea576f-7622-4a76-b49e-b507ecdf9143 ]] \r\n",
       "def \"TraceType\" as E12  <<(T,blue) attribute def>> [[psysml:94b89eba-1373-4747-be10-96c8afe81c57 ]] \r\n",
       "E5 - -|> E4 [[psysml:1fae307b-d381-413b-a54b-1b2b6b9504e4 ]] \r\n",
       "E6 - -|> E4 [[psysml:7586c63b-e962-4c71-a815-b951da9c42fd ]] \r\n",
       "E8 - -|> E7 [[psysml:ac5351a0-1e83-4059-a676-09b1135fdbdb ]] \r\n",
       "E9 - -|> E7 [[psysml:b4a7142c-3704-4664-96a1-82d8820e852c ]] \r\n",
       "E10 - -|> E7 [[psysml:0d958407-bb0d-4816-94a0-9a77dbdedca1 ]] \r\n",
       "}\r\n",
       "@enduml\r\n",
       "\n",
       "PlantUML version 1.2020.13(Sat Jun 13 12:26:38 UTC 2020)\n",
       "(EPL source distribution)\n",
       "Java Runtime: OpenJDK Runtime Environment\n",
       "JVM: OpenJDK 64-Bit Server VM\n",
       "Default Encoding: UTF-8\n",
       "Language: en\n",
       "Country: null\n",
       "--></g></svg>"
      ]
     },
     "execution_count": 15,
     "metadata": {},
     "output_type": "execute_result"
    }
   ],
   "source": [
    "%viz TracingAnnotations"
   ]
  },
  {
   "cell_type": "code",
   "execution_count": 3,
   "metadata": {},
   "outputs": [
    {
     "data": {
      "text/plain": [
       "Package Tracing_SimpleExample (79c41b31-3254-4253-94ce-a10089303367)\n"
      ]
     },
     "execution_count": 3,
     "metadata": {},
     "output_type": "execute_result"
    }
   ],
   "source": [
    "package Tracing_SimpleExample {\n",
    "\timport TracingAnnotations::*;\n",
    "\t\n",
    "\t\n",
    "\tpart vehiculetest {\n",
    "\t\tpart wheel: Anything;\n",
    "\t}\n",
    "\tpart vehiculetest2 :> vehiculetest {}\n",
    "\t\n",
    "\t\n",
    "\tattribute ev_vehiculetest : AIEvidence {\n",
    "\t\t:>> algorithm = \"ROUGE\";\n",
    "\t\t:>> parameters = {};\n",
    "\t\t:>> executionDate { :>> num = 0123456;}\t\t\n",
    "\t\t:>> precision = 0.9;\n",
    "\t\t:>> recall = 0.9;\n",
    "\t}\n",
    "\t\n",
    "\tattribute ag_vehiculetest : MachineAgent {\n",
    "\t\t:>> type = \"NLP_AI_ROUGE\";\n",
    "\t\t:>> description = \"Something about the use of AI for NLP in Sw Eng.\";\n",
    "\t}\n",
    "\t\n",
    "\tconnection testLink2 connect vehiculetest.wheel to vehiculetest2.wheel {\n",
    "\t\t/* Tracing information. */\n",
    "\t\t@ConfidenceTracing {\n",
    "\t\t\tconfidence = 0.95;\n",
    "\t\t\tdescription = \"connection btw vehiculetest*.wheel\";\n",
    "\t\t}\n",
    "\t}\n",
    "\t\n",
    "\tconnection testLink connect vehiculetest.wheel to vehiculetest2.wheel {\n",
    "\t\t@ExplainableTracing {\n",
    "\t\t\tdescription = \"Something\";\n",
    "\t\t\tconfidence = 0.95;\n",
    "\t\t\tevidence = (ev_vehiculetest);\n",
    "\t\t\tagent = ag_vehiculetest;\n",
    "\t\t}\n",
    "\t}\n",
    "\t\n",
    "\t\n",
    "\tconnection testLink3 connect vehiculetest.wheel to vehiculetest2.wheel;\n",
    "\tmetadata testLink3_md: ExplainableTracing about testLink3 {\n",
    "\t\tdescription = \"Something\";\n",
    "\t\t\tconfidence = 0.95;\n",
    "\t\t\tevidence = (ev_vehiculetest);\n",
    "\t\t\tagent = ag_vehiculetest;\n",
    "\t}\n",
    "    \n",
    "    metadata TraceType about testLink3 {type = type2;}\n",
    "}\n",
    "\t"
   ]
  },
  {
   "cell_type": "code",
   "execution_count": 4,
   "metadata": {},
   "outputs": [
    {
     "data": {
      "image/svg+xml": [
       "<?xml version=\"1.0\" encoding=\"UTF-8\" standalone=\"no\"?><svg xmlns=\"http://www.w3.org/2000/svg\" xmlns:xlink=\"http://www.w3.org/1999/xlink\" contentScriptType=\"application/ecmascript\" contentStyleType=\"text/css\" height=\"301px\" preserveAspectRatio=\"none\" style=\"width:1026px;height:301px;\" version=\"1.1\" viewBox=\"0 0 1026 301\" width=\"1026px\" zoomAndPan=\"magnify\"><defs/><g><!--MD5=[fbc87193dbaf4d95561dea2c320d4a47]\n",
       "cluster E1--><a href=\"psysml:af977d28-4dab-4739-a56c-81c30bb11ba1\" target=\"_top\" title=\"psysml:af977d28-4dab-4739-a56c-81c30bb11ba1\" xlink:actuate=\"onRequest\" xlink:href=\"psysml:af977d28-4dab-4739-a56c-81c30bb11ba1\" xlink:show=\"new\" xlink:title=\"psysml:af977d28-4dab-4739-a56c-81c30bb11ba1\" xlink:type=\"simple\"><polygon fill=\"#FFFFFF\" points=\"16,6,205,6,212,28.2969,1004,28.2969,1004,289.5,16,289.5,16,6\" style=\"stroke: #000000; stroke-width: 1.5;\"/><line style=\"stroke: #000000; stroke-width: 1.5;\" x1=\"16\" x2=\"212\" y1=\"28.2969\" y2=\"28.2969\"/><text fill=\"#000000\" font-family=\"sans-serif\" font-size=\"14\" font-weight=\"bold\" lengthAdjust=\"spacingAndGlyphs\" textLength=\"183\" x=\"20\" y=\"20.9951\">Tracing_SimpleExample</text></a><!--MD5=[e4f7fae6ed58524ba242bb0b0d3be6b7]\n",
       "cluster E2--><a href=\"psysml:265a5650-2f61-4c56-802b-3535ca75bda3\" target=\"_top\" title=\"psysml:265a5650-2f61-4c56-802b-3535ca75bda3\" xlink:actuate=\"onRequest\" xlink:href=\"psysml:265a5650-2f61-4c56-802b-3535ca75bda3\" xlink:show=\"new\" xlink:title=\"psysml:265a5650-2f61-4c56-802b-3535ca75bda3\" xlink:type=\"simple\"><rect fill=\"#FFFFFF\" height=\"91\" id=\"E2\" rx=\"10\" ry=\"10\" style=\"stroke: #383838; stroke-width: 1.5;\" width=\"142\" x=\"838\" y=\"49\"/><rect fill=\"#F8F8F8\" height=\"23.9688\" rx=\"10\" ry=\"10\" style=\"stroke: #F8F8F8; stroke-width: 1.5;\" width=\"142\" x=\"838\" y=\"49\"/><rect fill=\"#F8F8F8\" height=\"10\" style=\"stroke: #F8F8F8; stroke-width: 1.5;\" width=\"142\" x=\"838\" y=\"62.9688\"/><rect fill=\"none\" height=\"91\" id=\"E2\" rx=\"10\" ry=\"10\" style=\"stroke: #383838; stroke-width: 1.5;\" width=\"142\" x=\"838\" y=\"49\"/><text fill=\"#000000\" font-family=\"sans-serif\" font-size=\"12\" lengthAdjust=\"spacingAndGlyphs\" textLength=\"76\" x=\"871\" y=\"65.1387\">vehiculetest</text><line style=\"stroke: #383838; stroke-width: 1.0;\" x1=\"838\" x2=\"980\" y1=\"72.9688\" y2=\"72.9688\"/></a><!--MD5=[f6df4d0ebaf0b5dfb2ced0ae5af7c670]\n",
       "cluster E4--><a href=\"psysml:c7909d02-8f66-4261-9479-23c2de9eaecf\" target=\"_top\" title=\"psysml:c7909d02-8f66-4261-9479-23c2de9eaecf\" xlink:actuate=\"onRequest\" xlink:href=\"psysml:c7909d02-8f66-4261-9479-23c2de9eaecf\" xlink:show=\"new\" xlink:title=\"psysml:c7909d02-8f66-4261-9479-23c2de9eaecf\" xlink:type=\"simple\"><rect fill=\"#FFFFFF\" height=\"91\" id=\"E4\" rx=\"10\" ry=\"10\" style=\"stroke: #383838; stroke-width: 1.5;\" width=\"152\" x=\"828\" y=\"174.5\"/><rect fill=\"#F8F8F8\" height=\"23.9688\" rx=\"10\" ry=\"10\" style=\"stroke: #F8F8F8; stroke-width: 1.5;\" width=\"152\" x=\"828\" y=\"174.5\"/><rect fill=\"#F8F8F8\" height=\"10\" style=\"stroke: #F8F8F8; stroke-width: 1.5;\" width=\"152\" x=\"828\" y=\"188.4688\"/><rect fill=\"none\" height=\"91\" id=\"E4\" rx=\"10\" ry=\"10\" style=\"stroke: #383838; stroke-width: 1.5;\" width=\"152\" x=\"828\" y=\"174.5\"/><text fill=\"#000000\" font-family=\"sans-serif\" font-size=\"12\" lengthAdjust=\"spacingAndGlyphs\" textLength=\"84\" x=\"862\" y=\"190.6387\">vehiculetest2</text><line style=\"stroke: #383838; stroke-width: 1.0;\" x1=\"828\" x2=\"980\" y1=\"198.4688\" y2=\"198.4688\"/></a><!--MD5=[60a26617385b1d2d0262a64233df1f8d]\n",
       "class E6--><a href=\"psysml:4872b6a1-4bc2-4d9a-ba7e-c6c2fa75f585\" target=\"_top\" title=\"psysml:4872b6a1-4bc2-4d9a-ba7e-c6c2fa75f585\" xlink:actuate=\"onRequest\" xlink:href=\"psysml:4872b6a1-4bc2-4d9a-ba7e-c6c2fa75f585\" xlink:show=\"new\" xlink:title=\"psysml:4872b6a1-4bc2-4d9a-ba7e-c6c2fa75f585\" xlink:type=\"simple\"><rect fill=\"#FFFFFF\" height=\"45.9375\" id=\"E6\" rx=\"10\" ry=\"10\" style=\"stroke: #383838; stroke-width: 1.5;\" width=\"177\" x=\"642.5\" y=\"81\"/><text fill=\"#000000\" font-family=\"sans-serif\" font-size=\"12\" font-style=\"italic\" lengthAdjust=\"spacingAndGlyphs\" textLength=\"69\" x=\"696.5\" y=\"97.1387\">«attribute»</text><text fill=\"#000000\" font-family=\"sans-serif\" font-size=\"12\" lengthAdjust=\"spacingAndGlyphs\" textLength=\"171\" x=\"645.5\" y=\"111.1074\">ev_vehiculetest: AIEvidence</text><line style=\"stroke: #383838; stroke-width: 1.5;\" x1=\"643.5\" x2=\"818.5\" y1=\"118.9375\" y2=\"118.9375\"/></a><!--MD5=[2156ba9850f5573cc1fc38a6a4b2f02b]\n",
       "class E7--><a href=\"psysml:d0112168-c094-4bf6-b37a-62996fd55f53\" target=\"_top\" title=\"psysml:d0112168-c094-4bf6-b37a-62996fd55f53\" xlink:actuate=\"onRequest\" xlink:href=\"psysml:d0112168-c094-4bf6-b37a-62996fd55f53\" xlink:show=\"new\" xlink:title=\"psysml:d0112168-c094-4bf6-b37a-62996fd55f53\" xlink:type=\"simple\"><rect fill=\"#FFFFFF\" height=\"45.9375\" id=\"E7\" rx=\"10\" ry=\"10\" style=\"stroke: #383838; stroke-width: 1.5;\" width=\"201\" x=\"406.5\" y=\"81\"/><text fill=\"#000000\" font-family=\"sans-serif\" font-size=\"12\" font-style=\"italic\" lengthAdjust=\"spacingAndGlyphs\" textLength=\"69\" x=\"472.5\" y=\"97.1387\">«attribute»</text><text fill=\"#000000\" font-family=\"sans-serif\" font-size=\"12\" lengthAdjust=\"spacingAndGlyphs\" textLength=\"195\" x=\"409.5\" y=\"111.1074\">ag_vehiculetest: MachineAgent</text><line style=\"stroke: #383838; stroke-width: 1.5;\" x1=\"407.5\" x2=\"606.5\" y1=\"118.9375\" y2=\"118.9375\"/></a><path d=\"M175,49.5 L175,158.2969 L371,158.2969 L371,59.5 L361,49.5 L175,49.5 \" fill=\"#ECECEC\" style=\"stroke: #383838; stroke-width: 1.0;\"/><path d=\"M361,49.5 L361,59.5 L371,59.5 L361,49.5 \" fill=\"#ECECEC\" style=\"stroke: #383838; stroke-width: 1.0;\"/><text fill=\"#000000\" font-family=\"monospace\" font-size=\"13\" lengthAdjust=\"spacingAndGlyphs\" textLength=\"0\" x=\"237\" y=\"66.5669\"/><a href=\"psysml:b96399e1-9603-49c5-8b62-99a90c851805\" target=\"_top\" title=\"psysml:b96399e1-9603-49c5-8b62-99a90c851805\" xlink:actuate=\"onRequest\" xlink:href=\"psysml:b96399e1-9603-49c5-8b62-99a90c851805\" xlink:show=\"new\" xlink:title=\"psysml:b96399e1-9603-49c5-8b62-99a90c851805\" xlink:type=\"simple\"><text fill=\"#1C1C1C\" font-family=\"sans-serif\" font-size=\"13\" lengthAdjust=\"spacingAndGlyphs\" text-decoration=\"underline\" textLength=\"79\" x=\"237\" y=\"66.5669\">«metadata»</text></a><text fill=\"#000000\" font-family=\"monospace\" font-size=\"13\" font-style=\"italic\" lengthAdjust=\"spacingAndGlyphs\" textLength=\"0\" x=\"205\" y=\"81.6997\"/><text fill=\"#000000\" font-family=\"sans-serif\" font-size=\"13\" font-style=\"italic\" lengthAdjust=\"spacingAndGlyphs\" textLength=\"118\" x=\"205\" y=\"81.6997\">ExplainableTracing</text><line style=\"stroke: #383838; stroke-width: 1.0;\" x1=\"176\" x2=\"370\" y1=\"84.7656\" y2=\"84.7656\"/><text fill=\"#000000\" font-family=\"sans-serif\" font-size=\"13\" lengthAdjust=\"spacingAndGlyphs\" textLength=\"173\" x=\"181\" y=\"100.8325\">description =  \"Something\"</text><text fill=\"#000000\" font-family=\"sans-serif\" font-size=\"13\" lengthAdjust=\"spacingAndGlyphs\" textLength=\"120\" x=\"181\" y=\"115.9653\">confidence =  0.95</text><text fill=\"#000000\" font-family=\"sans-serif\" font-size=\"13\" lengthAdjust=\"spacingAndGlyphs\" textLength=\"175\" x=\"181\" y=\"131.0981\">evidence = ev_vehiculetest</text><text fill=\"#000000\" font-family=\"sans-serif\" font-size=\"13\" lengthAdjust=\"spacingAndGlyphs\" textLength=\"160\" x=\"181\" y=\"146.231\">agent =  ag_vehiculetest</text><path d=\"M32,72.5 L32,135.8984 L140,135.8984 L140,82.5 L130,72.5 L32,72.5 \" fill=\"#ECECEC\" style=\"stroke: #383838; stroke-width: 1.0;\"/><path d=\"M130,72.5 L130,82.5 L140,82.5 L130,72.5 \" fill=\"#ECECEC\" style=\"stroke: #383838; stroke-width: 1.0;\"/><text fill=\"#000000\" font-family=\"monospace\" font-size=\"13\" lengthAdjust=\"spacingAndGlyphs\" textLength=\"0\" x=\"46\" y=\"89.5669\"/><a href=\"psysml:014769df-0f29-4e16-90f4-f86c4830062b\" target=\"_top\" title=\"psysml:014769df-0f29-4e16-90f4-f86c4830062b\" xlink:actuate=\"onRequest\" xlink:href=\"psysml:014769df-0f29-4e16-90f4-f86c4830062b\" xlink:show=\"new\" xlink:title=\"psysml:014769df-0f29-4e16-90f4-f86c4830062b\" xlink:type=\"simple\"><text fill=\"#1C1C1C\" font-family=\"sans-serif\" font-size=\"13\" lengthAdjust=\"spacingAndGlyphs\" text-decoration=\"underline\" textLength=\"79\" x=\"46\" y=\"89.5669\">«metadata»</text></a><text fill=\"#000000\" font-family=\"monospace\" font-size=\"13\" font-style=\"italic\" lengthAdjust=\"spacingAndGlyphs\" textLength=\"0\" x=\"54\" y=\"104.6997\"/><text fill=\"#000000\" font-family=\"sans-serif\" font-size=\"13\" font-style=\"italic\" lengthAdjust=\"spacingAndGlyphs\" textLength=\"65\" x=\"54\" y=\"104.6997\">TraceType</text><line style=\"stroke: #383838; stroke-width: 1.0;\" x1=\"33\" x2=\"139\" y1=\"107.7656\" y2=\"107.7656\"/><text fill=\"#000000\" font-family=\"sans-serif\" font-size=\"13\" lengthAdjust=\"spacingAndGlyphs\" textLength=\"87\" x=\"38\" y=\"123.8325\">type =  type2</text><g id=\"E1.E2.E3\"><a href=\"psysml:3a0cff03-54b3-41cd-8f73-a9e8937b4291\" target=\"_top\" title=\"psysml:3a0cff03-54b3-41cd-8f73-a9e8937b4291\" xlink:actuate=\"onRequest\" xlink:href=\"psysml:3a0cff03-54b3-41cd-8f73-a9e8937b4291\" xlink:show=\"new\" xlink:title=\"psysml:3a0cff03-54b3-41cd-8f73-a9e8937b4291\" xlink:type=\"simple\"><rect fill=\"#FFFFFF\" height=\"40\" id=\"E3\" rx=\"10\" ry=\"10\" style=\"stroke: #383838; stroke-width: 1.5;\" width=\"109\" x=\"854.5\" y=\"84\"/><rect fill=\"#F8F8F8\" height=\"23.9688\" rx=\"10\" ry=\"10\" style=\"stroke: #F8F8F8; stroke-width: 1.5;\" width=\"109\" x=\"854.5\" y=\"84\"/><rect fill=\"#F8F8F8\" height=\"10\" style=\"stroke: #F8F8F8; stroke-width: 1.5;\" width=\"109\" x=\"854.5\" y=\"97.9688\"/><rect fill=\"none\" height=\"40\" id=\"E3\" rx=\"10\" ry=\"10\" style=\"stroke: #383838; stroke-width: 1.5;\" width=\"109\" x=\"854.5\" y=\"84\"/><text fill=\"#000000\" font-family=\"sans-serif\" font-size=\"12\" lengthAdjust=\"spacingAndGlyphs\" textLength=\"98\" x=\"860\" y=\"100.1387\">wheel: Anything</text></a></g><g id=\"E1.E4.E5\"><a href=\"psysml:3a0cff03-54b3-41cd-8f73-a9e8937b4291\" target=\"_top\" title=\"psysml:3a0cff03-54b3-41cd-8f73-a9e8937b4291\" xlink:actuate=\"onRequest\" xlink:href=\"psysml:3a0cff03-54b3-41cd-8f73-a9e8937b4291\" xlink:show=\"new\" xlink:title=\"psysml:3a0cff03-54b3-41cd-8f73-a9e8937b4291\" xlink:type=\"simple\"><rect fill=\"#FFFFFF\" height=\"40\" id=\"E5\" rx=\"10\" ry=\"10\" style=\"stroke: #383838; stroke-width: 1.5;\" width=\"119\" x=\"844.5\" y=\"209.5\"/><rect fill=\"#F8F8F8\" height=\"23.9688\" rx=\"10\" ry=\"10\" style=\"stroke: #F8F8F8; stroke-width: 1.5;\" width=\"119\" x=\"844.5\" y=\"209.5\"/><rect fill=\"#F8F8F8\" height=\"10\" style=\"stroke: #F8F8F8; stroke-width: 1.5;\" width=\"119\" x=\"844.5\" y=\"223.4688\"/><rect fill=\"none\" height=\"40\" id=\"E5\" rx=\"10\" ry=\"10\" style=\"stroke: #383838; stroke-width: 1.5;\" width=\"119\" x=\"844.5\" y=\"209.5\"/><text fill=\"#000000\" font-family=\"sans-serif\" font-size=\"12\" lengthAdjust=\"spacingAndGlyphs\" textLength=\"108\" x=\"850\" y=\"225.6387\">^wheel: Anything</text></a></g><!--MD5=[0188b64bb0ae78505a997a81836e11e9]\n",
       "link E3 to E5--><a href=\"psysml:9243e483-252b-4fe6-98b3-438d1d962850\" target=\"_top\" title=\"psysml:9243e483-252b-4fe6-98b3-438d1d962850\" xlink:actuate=\"onRequest\" xlink:href=\"psysml:9243e483-252b-4fe6-98b3-438d1d962850\" xlink:show=\"new\" xlink:title=\"psysml:9243e483-252b-4fe6-98b3-438d1d962850\" xlink:type=\"simple\"><path d=\"M888.65,124.03 C878.85,147.17 877.25,186.01 885.11,209.25 \" fill=\"none\" id=\"E3-E5\" style=\"stroke: #383838; stroke-width: 3.0;\"/><text fill=\"#000000\" font-family=\"sans-serif\" font-size=\"13\" lengthAdjust=\"spacingAndGlyphs\" textLength=\"7\" x=\"871.8128\" y=\"198.5309\">*</text></a><!--MD5=[0188b64bb0ae78505a997a81836e11e9]\n",
       "link E3 to E5--><a href=\"psysml:21f61fcd-0e13-4db8-9ac7-f82b229a79f4\" target=\"_top\" title=\"psysml:21f61fcd-0e13-4db8-9ac7-f82b229a79f4\" xlink:actuate=\"onRequest\" xlink:href=\"psysml:21f61fcd-0e13-4db8-9ac7-f82b229a79f4\" xlink:show=\"new\" xlink:title=\"psysml:21f61fcd-0e13-4db8-9ac7-f82b229a79f4\" xlink:type=\"simple\"><path d=\"M908.23,124.03 C907.29,147.17 905.72,186.01 904.78,209.25 \" fill=\"none\" id=\"E3-E5-1\" style=\"stroke: #383838; stroke-width: 3.0;\"/><text fill=\"#000000\" font-family=\"sans-serif\" font-size=\"13\" lengthAdjust=\"spacingAndGlyphs\" textLength=\"7\" x=\"897.015\" y=\"198.5309\">*</text></a><!--MD5=[0188b64bb0ae78505a997a81836e11e9]\n",
       "link E3 to E5--><a href=\"psysml:d7d097f4-f3eb-4999-a925-4687685e61fd\" target=\"_top\" title=\"psysml:d7d097f4-f3eb-4999-a925-4687685e61fd\" xlink:actuate=\"onRequest\" xlink:href=\"psysml:d7d097f4-f3eb-4999-a925-4687685e61fd\" xlink:show=\"new\" xlink:title=\"psysml:d7d097f4-f3eb-4999-a925-4687685e61fd\" xlink:type=\"simple\"><path d=\"M927.81,124.03 C935.74,147.17 934.19,186.01 924.45,209.25 \" fill=\"none\" id=\"E3-E5-2\" style=\"stroke: #383838; stroke-width: 3.0;\"/><text fill=\"#000000\" font-family=\"sans-serif\" font-size=\"13\" lengthAdjust=\"spacingAndGlyphs\" textLength=\"7\" x=\"922.2172\" y=\"198.5309\">*</text></a><!--MD5=[d0aa02c0dd6ff8b6fc0a7c47aa55d864]\n",
       "@startuml\r\n",
       "skinparam ranksep 10\r\n",
       "skinparam rectangle {\r\n",
       " backgroundColor<<block>> LightGreen\r\n",
       "}\r\n",
       "skinparam monochrome true\r\n",
       "skinparam classbackgroundcolor white\r\n",
       "skinparam shadowing false\r\n",
       "skinparam wrapWidth 300\r\n",
       "hide circle\r\n",
       "\r\n",
       "package \"Tracing_SimpleExample\" as E1  [[psysml:af977d28-4dab-4739-a56c-81c30bb11ba1 ]]  {\r\n",
       "rec usage \"vehiculetest\" as E2  [[psysml:265a5650-2f61-4c56-802b-3535ca75bda3 ]] {\r\n",
       "rec usage \"wheel: Anything\" as E3  [[psysml:3a0cff03-54b3-41cd-8f73-a9e8937b4291 ]] {\r\n",
       "}\r\n",
       "}\r\n",
       "rec usage \"vehiculetest2\" as E4  [[psysml:c7909d02-8f66-4261-9479-23c2de9eaecf ]] {\r\n",
       "rec usage \"^wheel: Anything\" as E5  [[psysml:3a0cff03-54b3-41cd-8f73-a9e8937b4291 ]] {\r\n",
       "}\r\n",
       "}\r\n",
       "comp usage \"ev_vehiculetest: AIEvidence\" as E6  <<(T,blue) attribute>> [[psysml:4872b6a1-4bc2-4d9a-ba7e-c6c2fa75f585 ]] {\r\n",
       "}\r\n",
       "comp usage \"ag_vehiculetest: MachineAgent\" as E7  <<(T,blue) attribute>> [[psysml:d0112168-c094-4bf6-b37a-62996fd55f53 ]] {\r\n",
       "}\r\n",
       "note as E8\r\n",
       "\"\"       \"\"[[psysml:b96399e1-9603-49c5-8b62-99a90c851805 «metadata»]]\r\n",
       "==== \"\"   \"\"ExplainableTracing\r\n",
       "- -\r\n",
       "description =  \"Something\"\r\n",
       "confidence =  0.95\r\n",
       "evidence = ev_vehiculetest\r\n",
       "agent =  ag_vehiculetest\r\n",
       "end note\r\n",
       "note as E9\r\n",
       "\"\" \"\"[[psysml:014769df-0f29-4e16-90f4-f86c4830062b «metadata»]]\r\n",
       "==== \"\"  \"\"TraceType\r\n",
       "- -\r\n",
       "type =  type2\r\n",
       "end note\r\n",
       "E3 -[thickness=3]- \"*\"E5 [[psysml:9243e483-252b-4fe6-98b3-438d1d962850 ]] \r\n",
       "E3 -[thickness=3]- \"*\"E5 [[psysml:21f61fcd-0e13-4db8-9ac7-f82b229a79f4 ]] \r\n",
       "E3 -[thickness=3]- \"*\"E5 [[psysml:d7d097f4-f3eb-4999-a925-4687685e61fd ]] \r\n",
       "}\r\n",
       "@enduml\r\n",
       "\n",
       "PlantUML version 1.2020.13(Sat Jun 13 12:26:38 UTC 2020)\n",
       "(EPL source distribution)\n",
       "Java Runtime: OpenJDK Runtime Environment\n",
       "JVM: OpenJDK 64-Bit Server VM\n",
       "Default Encoding: UTF-8\n",
       "Language: en\n",
       "Country: null\n",
       "--></g></svg>"
      ]
     },
     "execution_count": 4,
     "metadata": {},
     "output_type": "execute_result"
    }
   ],
   "source": [
    "%viz --view=interconnection Tracing_SimpleExample"
   ]
  },
  {
   "cell_type": "code",
   "execution_count": 107,
   "metadata": {},
   "outputs": [
    {
     "data": {
      "text/plain": [
       "Package Tracing_FilterExample (55d7bd77-f295-4f90-a282-4e50a65019cd)\n"
      ]
     },
     "execution_count": 107,
     "metadata": {},
     "output_type": "execute_result"
    }
   ],
   "source": [
    "package Tracing_FilterExample {\n",
    "\timport TracingAnnotations::*;\t/* Elements of the system. */\n",
    "\tpart end1 {}\n",
    "\tpart end2 {}\n",
    "\tpart end3 {}\n",
    "\tpart end4 {}\n",
    "\tpart end5 {}\n",
    "\tpart end6 {}\n",
    "\tpart end7 {}\n",
    "\tpart end8 {}\n",
    "\t\n",
    "\t/* Trace links */\n",
    "\tconnection testLink95 connect end1 to end2 \n",
    "      {@ConfidenceTracing { confidence = 0.95; } @TraceType {type = type1;}}\n",
    "\tconnection testLink85 connect end1 to end3 \n",
    "      {@ConfidenceTracing { confidence = 0.85; }}\n",
    "\tconnection testLink75 connect end1 to end4 \n",
    "      {@ConfidenceTracing { confidence = 0.75; } @TraceType {type = type1;}}\n",
    "\tconnection testLink65 connect end5 to end6 \n",
    "      {@ConfidenceTracing { confidence = 0.65; }}\n",
    "\tconnection testLink55 connect end6 to end7 \n",
    "      {@ConfidenceTracing { confidence = 0.55; }}\n",
    "\tconnection testLink45 connect end7 to end8 \n",
    "      {@ConfidenceTracing { confidence = 0.45; } @TraceType {type = type1;}}\n",
    "\tconnection testLink35 connect end8 to end7 \n",
    "      {@ConfidenceTracing { confidence = 0.35; }}\n",
    "\tconnection testLink25 connect end8 to end6 \n",
    "      {@ConfidenceTracing { confidence = 0.25; } @TraceType {type = type1;}}\n",
    "}"
   ]
  },
  {
   "cell_type": "code",
   "execution_count": 108,
   "metadata": {},
   "outputs": [
    {
     "data": {
      "image/svg+xml": [
       "<?xml version=\"1.0\" encoding=\"UTF-8\" standalone=\"no\"?><svg xmlns=\"http://www.w3.org/2000/svg\" xmlns:xlink=\"http://www.w3.org/1999/xlink\" contentScriptType=\"application/ecmascript\" contentStyleType=\"text/css\" height=\"275px\" preserveAspectRatio=\"none\" style=\"width:591px;height:275px;\" version=\"1.1\" viewBox=\"0 0 591 275\" width=\"591px\" zoomAndPan=\"magnify\"><defs/><g><!--MD5=[fbc87193dbaf4d95561dea2c320d4a47]\n",
       "cluster E1--><a href=\"psysml:02bd8674-7b42-42c4-86fa-56bda48ef1f1\" target=\"_top\" title=\"psysml:02bd8674-7b42-42c4-86fa-56bda48ef1f1\" xlink:actuate=\"onRequest\" xlink:href=\"psysml:02bd8674-7b42-42c4-86fa-56bda48ef1f1\" xlink:show=\"new\" xlink:title=\"psysml:02bd8674-7b42-42c4-86fa-56bda48ef1f1\" xlink:type=\"simple\"><polygon fill=\"#FFFFFF\" points=\"16,6,193,6,200,28.2969,569,28.2969,569,263,16,263,16,6\" style=\"stroke: #000000; stroke-width: 1.5;\"/><line style=\"stroke: #000000; stroke-width: 1.5;\" x1=\"16\" x2=\"200\" y1=\"28.2969\" y2=\"28.2969\"/><text fill=\"#000000\" font-family=\"sans-serif\" font-size=\"14\" font-weight=\"bold\" lengthAdjust=\"spacingAndGlyphs\" textLength=\"171\" x=\"20\" y=\"20.9951\">Tracing_FilterExample</text></a><path d=\"M347,56.5 L347,81.6328 L537,81.6328 L537,66.5 L527,56.5 L347,56.5 \" fill=\"#ECECEC\" style=\"stroke: #383838; stroke-width: 1.0;\"/><path d=\"M527,56.5 L527,66.5 L537,66.5 L527,56.5 \" fill=\"#ECECEC\" style=\"stroke: #383838; stroke-width: 1.0;\"/><a href=\"psysml:f52b642a-cf9b-4f62-9371-89992da03acf\" target=\"_top\" title=\"psysml:f52b642a-cf9b-4f62-9371-89992da03acf\" xlink:actuate=\"onRequest\" xlink:href=\"psysml:f52b642a-cf9b-4f62-9371-89992da03acf\" xlink:show=\"new\" xlink:title=\"psysml:f52b642a-cf9b-4f62-9371-89992da03acf\" xlink:type=\"simple\"><text fill=\"#1C1C1C\" font-family=\"sans-serif\" font-size=\"13\" lengthAdjust=\"spacingAndGlyphs\" text-decoration=\"underline\" textLength=\"13\" x=\"353\" y=\"73.5669\">@</text></a><text fill=\"#000000\" font-family=\"sans-serif\" font-size=\"13\" lengthAdjust=\"spacingAndGlyphs\" textLength=\"156\" x=\"366\" y=\"73.5669\">Elements of the system.</text><path d=\"M210.5,56.5 L210.5,81.6328 L311.5,81.6328 L311.5,66.5 L301.5,56.5 L210.5,56.5 \" fill=\"#ECECEC\" style=\"stroke: #383838; stroke-width: 1.0;\"/><path d=\"M301.5,56.5 L301.5,66.5 L311.5,66.5 L301.5,56.5 \" fill=\"#ECECEC\" style=\"stroke: #383838; stroke-width: 1.0;\"/><a href=\"psysml:e0eb5455-2b97-4738-9202-3e87f1d7945e\" target=\"_top\" title=\"psysml:e0eb5455-2b97-4738-9202-3e87f1d7945e\" xlink:actuate=\"onRequest\" xlink:href=\"psysml:e0eb5455-2b97-4738-9202-3e87f1d7945e\" xlink:show=\"new\" xlink:title=\"psysml:e0eb5455-2b97-4738-9202-3e87f1d7945e\" xlink:type=\"simple\"><text fill=\"#1C1C1C\" font-family=\"sans-serif\" font-size=\"13\" lengthAdjust=\"spacingAndGlyphs\" text-decoration=\"underline\" textLength=\"13\" x=\"216.5\" y=\"73.5669\">@</text></a><text fill=\"#000000\" font-family=\"sans-serif\" font-size=\"13\" lengthAdjust=\"spacingAndGlyphs\" textLength=\"67\" x=\"229.5\" y=\"73.5669\">Trace links</text><g id=\"E1.E3\"><a href=\"psysml:7d9bd7cc-9bd6-4961-a8f8-d3e24d93782e\" target=\"_top\" title=\"psysml:7d9bd7cc-9bd6-4961-a8f8-d3e24d93782e\" xlink:actuate=\"onRequest\" xlink:href=\"psysml:7d9bd7cc-9bd6-4961-a8f8-d3e24d93782e\" xlink:show=\"new\" xlink:title=\"psysml:7d9bd7cc-9bd6-4961-a8f8-d3e24d93782e\" xlink:type=\"simple\"><rect fill=\"#FFFFFF\" height=\"40\" id=\"E3\" rx=\"10\" ry=\"10\" style=\"stroke: #383838; stroke-width: 1.5;\" width=\"50\" x=\"125\" y=\"49\"/><rect fill=\"#F8F8F8\" height=\"23.9688\" rx=\"10\" ry=\"10\" style=\"stroke: #F8F8F8; stroke-width: 1.5;\" width=\"50\" x=\"125\" y=\"49\"/><rect fill=\"#F8F8F8\" height=\"10\" style=\"stroke: #F8F8F8; stroke-width: 1.5;\" width=\"50\" x=\"125\" y=\"62.9688\"/><rect fill=\"none\" height=\"40\" id=\"E3\" rx=\"10\" ry=\"10\" style=\"stroke: #383838; stroke-width: 1.5;\" width=\"50\" x=\"125\" y=\"49\"/><text fill=\"#000000\" font-family=\"sans-serif\" font-size=\"12\" lengthAdjust=\"spacingAndGlyphs\" textLength=\"32\" x=\"134\" y=\"65.1387\">end1</text></a></g><g id=\"E1.E4\"><a href=\"psysml:dc2bd3cb-1b6b-44cb-ae64-f98f31c3e192\" target=\"_top\" title=\"psysml:dc2bd3cb-1b6b-44cb-ae64-f98f31c3e192\" xlink:actuate=\"onRequest\" xlink:href=\"psysml:dc2bd3cb-1b6b-44cb-ae64-f98f31c3e192\" xlink:show=\"new\" xlink:title=\"psysml:dc2bd3cb-1b6b-44cb-ae64-f98f31c3e192\" xlink:type=\"simple\"><rect fill=\"#FFFFFF\" height=\"40\" id=\"E4\" rx=\"10\" ry=\"10\" style=\"stroke: #383838; stroke-width: 1.5;\" width=\"50\" x=\"125\" y=\"99\"/><rect fill=\"#F8F8F8\" height=\"23.9688\" rx=\"10\" ry=\"10\" style=\"stroke: #F8F8F8; stroke-width: 1.5;\" width=\"50\" x=\"125\" y=\"99\"/><rect fill=\"#F8F8F8\" height=\"10\" style=\"stroke: #F8F8F8; stroke-width: 1.5;\" width=\"50\" x=\"125\" y=\"112.9688\"/><rect fill=\"none\" height=\"40\" id=\"E4\" rx=\"10\" ry=\"10\" style=\"stroke: #383838; stroke-width: 1.5;\" width=\"50\" x=\"125\" y=\"99\"/><text fill=\"#000000\" font-family=\"sans-serif\" font-size=\"12\" lengthAdjust=\"spacingAndGlyphs\" textLength=\"32\" x=\"134\" y=\"115.1387\">end2</text></a></g><g id=\"E1.E5\"><a href=\"psysml:98a23b60-9dda-4be5-9c98-beea7eac82b4\" target=\"_top\" title=\"psysml:98a23b60-9dda-4be5-9c98-beea7eac82b4\" xlink:actuate=\"onRequest\" xlink:href=\"psysml:98a23b60-9dda-4be5-9c98-beea7eac82b4\" xlink:show=\"new\" xlink:title=\"psysml:98a23b60-9dda-4be5-9c98-beea7eac82b4\" xlink:type=\"simple\"><rect fill=\"#FFFFFF\" height=\"40\" id=\"E5\" rx=\"10\" ry=\"10\" style=\"stroke: #383838; stroke-width: 1.5;\" width=\"50\" x=\"210\" y=\"99\"/><rect fill=\"#F8F8F8\" height=\"23.9688\" rx=\"10\" ry=\"10\" style=\"stroke: #F8F8F8; stroke-width: 1.5;\" width=\"50\" x=\"210\" y=\"99\"/><rect fill=\"#F8F8F8\" height=\"10\" style=\"stroke: #F8F8F8; stroke-width: 1.5;\" width=\"50\" x=\"210\" y=\"112.9688\"/><rect fill=\"none\" height=\"40\" id=\"E5\" rx=\"10\" ry=\"10\" style=\"stroke: #383838; stroke-width: 1.5;\" width=\"50\" x=\"210\" y=\"99\"/><text fill=\"#000000\" font-family=\"sans-serif\" font-size=\"12\" lengthAdjust=\"spacingAndGlyphs\" textLength=\"32\" x=\"219\" y=\"115.1387\">end3</text></a></g><g id=\"E1.E6\"><a href=\"psysml:f29267f1-9e7a-4013-9670-8d7c293049f1\" target=\"_top\" title=\"psysml:f29267f1-9e7a-4013-9670-8d7c293049f1\" xlink:actuate=\"onRequest\" xlink:href=\"psysml:f29267f1-9e7a-4013-9670-8d7c293049f1\" xlink:show=\"new\" xlink:title=\"psysml:f29267f1-9e7a-4013-9670-8d7c293049f1\" xlink:type=\"simple\"><rect fill=\"#FFFFFF\" height=\"40\" id=\"E6\" rx=\"10\" ry=\"10\" style=\"stroke: #383838; stroke-width: 1.5;\" width=\"50\" x=\"295\" y=\"99\"/><rect fill=\"#F8F8F8\" height=\"23.9688\" rx=\"10\" ry=\"10\" style=\"stroke: #F8F8F8; stroke-width: 1.5;\" width=\"50\" x=\"295\" y=\"99\"/><rect fill=\"#F8F8F8\" height=\"10\" style=\"stroke: #F8F8F8; stroke-width: 1.5;\" width=\"50\" x=\"295\" y=\"112.9688\"/><rect fill=\"none\" height=\"40\" id=\"E6\" rx=\"10\" ry=\"10\" style=\"stroke: #383838; stroke-width: 1.5;\" width=\"50\" x=\"295\" y=\"99\"/><text fill=\"#000000\" font-family=\"sans-serif\" font-size=\"12\" lengthAdjust=\"spacingAndGlyphs\" textLength=\"32\" x=\"304\" y=\"115.1387\">end4</text></a></g><g id=\"E1.E7\"><a href=\"psysml:782134ae-4ce2-4287-aa9c-58aa90aab275\" target=\"_top\" title=\"psysml:782134ae-4ce2-4287-aa9c-58aa90aab275\" xlink:actuate=\"onRequest\" xlink:href=\"psysml:782134ae-4ce2-4287-aa9c-58aa90aab275\" xlink:show=\"new\" xlink:title=\"psysml:782134ae-4ce2-4287-aa9c-58aa90aab275\" xlink:type=\"simple\"><rect fill=\"#FFFFFF\" height=\"40\" id=\"E7\" rx=\"10\" ry=\"10\" style=\"stroke: #383838; stroke-width: 1.5;\" width=\"50\" x=\"40\" y=\"49\"/><rect fill=\"#F8F8F8\" height=\"23.9688\" rx=\"10\" ry=\"10\" style=\"stroke: #F8F8F8; stroke-width: 1.5;\" width=\"50\" x=\"40\" y=\"49\"/><rect fill=\"#F8F8F8\" height=\"10\" style=\"stroke: #F8F8F8; stroke-width: 1.5;\" width=\"50\" x=\"40\" y=\"62.9688\"/><rect fill=\"none\" height=\"40\" id=\"E7\" rx=\"10\" ry=\"10\" style=\"stroke: #383838; stroke-width: 1.5;\" width=\"50\" x=\"40\" y=\"49\"/><text fill=\"#000000\" font-family=\"sans-serif\" font-size=\"12\" lengthAdjust=\"spacingAndGlyphs\" textLength=\"32\" x=\"49\" y=\"65.1387\">end5</text></a></g><g id=\"E1.E8\"><a href=\"psysml:5f377213-c7ac-479f-be9f-694eaa7e16e3\" target=\"_top\" title=\"psysml:5f377213-c7ac-479f-be9f-694eaa7e16e3\" xlink:actuate=\"onRequest\" xlink:href=\"psysml:5f377213-c7ac-479f-be9f-694eaa7e16e3\" xlink:show=\"new\" xlink:title=\"psysml:5f377213-c7ac-479f-be9f-694eaa7e16e3\" xlink:type=\"simple\"><rect fill=\"#FFFFFF\" height=\"40\" id=\"E8\" rx=\"10\" ry=\"10\" style=\"stroke: #383838; stroke-width: 1.5;\" width=\"50\" x=\"40\" y=\"99\"/><rect fill=\"#F8F8F8\" height=\"23.9688\" rx=\"10\" ry=\"10\" style=\"stroke: #F8F8F8; stroke-width: 1.5;\" width=\"50\" x=\"40\" y=\"99\"/><rect fill=\"#F8F8F8\" height=\"10\" style=\"stroke: #F8F8F8; stroke-width: 1.5;\" width=\"50\" x=\"40\" y=\"112.9688\"/><rect fill=\"none\" height=\"40\" id=\"E8\" rx=\"10\" ry=\"10\" style=\"stroke: #383838; stroke-width: 1.5;\" width=\"50\" x=\"40\" y=\"99\"/><text fill=\"#000000\" font-family=\"sans-serif\" font-size=\"12\" lengthAdjust=\"spacingAndGlyphs\" textLength=\"32\" x=\"49\" y=\"115.1387\">end6</text></a></g><g id=\"E1.E9\"><a href=\"psysml:ea540eed-24bf-4192-9bc6-2e2b4b60152b\" target=\"_top\" title=\"psysml:ea540eed-24bf-4192-9bc6-2e2b4b60152b\" xlink:actuate=\"onRequest\" xlink:href=\"psysml:ea540eed-24bf-4192-9bc6-2e2b4b60152b\" xlink:show=\"new\" xlink:title=\"psysml:ea540eed-24bf-4192-9bc6-2e2b4b60152b\" xlink:type=\"simple\"><rect fill=\"#FFFFFF\" height=\"40\" id=\"E9\" rx=\"10\" ry=\"10\" style=\"stroke: #383838; stroke-width: 1.5;\" width=\"50\" x=\"40\" y=\"149\"/><rect fill=\"#F8F8F8\" height=\"23.9688\" rx=\"10\" ry=\"10\" style=\"stroke: #F8F8F8; stroke-width: 1.5;\" width=\"50\" x=\"40\" y=\"149\"/><rect fill=\"#F8F8F8\" height=\"10\" style=\"stroke: #F8F8F8; stroke-width: 1.5;\" width=\"50\" x=\"40\" y=\"162.9688\"/><rect fill=\"none\" height=\"40\" id=\"E9\" rx=\"10\" ry=\"10\" style=\"stroke: #383838; stroke-width: 1.5;\" width=\"50\" x=\"40\" y=\"149\"/><text fill=\"#000000\" font-family=\"sans-serif\" font-size=\"12\" lengthAdjust=\"spacingAndGlyphs\" textLength=\"32\" x=\"49\" y=\"165.1387\">end7</text></a></g><g id=\"E1.E10\"><a href=\"psysml:ce838c76-9a57-421d-8b06-3f2bf5199a3b\" target=\"_top\" title=\"psysml:ce838c76-9a57-421d-8b06-3f2bf5199a3b\" xlink:actuate=\"onRequest\" xlink:href=\"psysml:ce838c76-9a57-421d-8b06-3f2bf5199a3b\" xlink:show=\"new\" xlink:title=\"psysml:ce838c76-9a57-421d-8b06-3f2bf5199a3b\" xlink:type=\"simple\"><rect fill=\"#FFFFFF\" height=\"40\" id=\"E10\" rx=\"10\" ry=\"10\" style=\"stroke: #383838; stroke-width: 1.5;\" width=\"50\" x=\"40\" y=\"199\"/><rect fill=\"#F8F8F8\" height=\"23.9688\" rx=\"10\" ry=\"10\" style=\"stroke: #F8F8F8; stroke-width: 1.5;\" width=\"50\" x=\"40\" y=\"199\"/><rect fill=\"#F8F8F8\" height=\"10\" style=\"stroke: #F8F8F8; stroke-width: 1.5;\" width=\"50\" x=\"40\" y=\"212.9688\"/><rect fill=\"none\" height=\"40\" id=\"E10\" rx=\"10\" ry=\"10\" style=\"stroke: #383838; stroke-width: 1.5;\" width=\"50\" x=\"40\" y=\"199\"/><text fill=\"#000000\" font-family=\"sans-serif\" font-size=\"12\" lengthAdjust=\"spacingAndGlyphs\" textLength=\"32\" x=\"49\" y=\"215.1387\">end8</text></a></g><!--MD5=[f23a504beb17692cf1ec401fb4a5a911]\n",
       "link E2 to E1--><a href=\"psysml:f52b642a-cf9b-4f62-9371-89992da03acf\" target=\"_top\" title=\"psysml:f52b642a-cf9b-4f62-9371-89992da03acf\" xlink:actuate=\"onRequest\" xlink:href=\"psysml:f52b642a-cf9b-4f62-9371-89992da03acf\" xlink:show=\"new\" xlink:title=\"psysml:f52b642a-cf9b-4f62-9371-89992da03acf\" xlink:type=\"simple\"><path d=\"M522.54,81.53 C533.62,85.71 544.19,91.37 553,99 C559.49,104.62 560.84,116.4 560.99,117.85 \" fill=\"none\" id=\"E2-E1\" style=\"stroke: #383838; stroke-width: 1.0; stroke-dasharray: 7.0,7.0;\"/></a><!--MD5=[80fa038408900d6025e22c20117a32b5]\n",
       "link E11 to E1--><a href=\"psysml:e0eb5455-2b97-4738-9202-3e87f1d7945e\" target=\"_top\" title=\"psysml:e0eb5455-2b97-4738-9202-3e87f1d7945e\" xlink:actuate=\"onRequest\" xlink:href=\"psysml:e0eb5455-2b97-4738-9202-3e87f1d7945e\" xlink:show=\"new\" xlink:title=\"psysml:e0eb5455-2b97-4738-9202-3e87f1d7945e\" xlink:type=\"simple\"><path d=\"M296.84,81.5 C307.41,84.45 319.08,87.27 330,89 C354.5,92.87 532.65,84.82 553,99 C560.05,103.91 560.91,116.31 560.99,117.84 \" fill=\"none\" id=\"E11-E1\" style=\"stroke: #383838; stroke-width: 1.0; stroke-dasharray: 7.0,7.0;\"/></a><!--MD5=[af87c684e3b0d8be13c1a698a818ef1e]\n",
       "link E3 to E4--><a href=\"psysml:b8d7f244-4986-4588-8d26-801b8e978401\" target=\"_top\" title=\"psysml:b8d7f244-4986-4588-8d26-801b8e978401\" xlink:actuate=\"onRequest\" xlink:href=\"psysml:b8d7f244-4986-4588-8d26-801b8e978401\" xlink:show=\"new\" xlink:title=\"psysml:b8d7f244-4986-4588-8d26-801b8e978401\" xlink:type=\"simple\"><path d=\"M150,89.25 C150,92.38 150,95.62 150,98.75 \" fill=\"none\" id=\"E3-E4\" style=\"stroke: #383838; stroke-width: 3.0;\"/><text fill=\"#000000\" font-family=\"sans-serif\" font-size=\"13\" lengthAdjust=\"spacingAndGlyphs\" textLength=\"7\" x=\"133.0261\" y=\"88.1617\">*</text></a><!--MD5=[0188b64bb0ae78505a997a81836e11e9]\n",
       "link E3 to E5--><a href=\"psysml:0608b91b-2e31-4051-bd5d-cb1806f5ff22\" target=\"_top\" title=\"psysml:0608b91b-2e31-4051-bd5d-cb1806f5ff22\" xlink:actuate=\"onRequest\" xlink:href=\"psysml:0608b91b-2e31-4051-bd5d-cb1806f5ff22\" xlink:show=\"new\" xlink:title=\"psysml:0608b91b-2e31-4051-bd5d-cb1806f5ff22\" xlink:type=\"simple\"><path d=\"M175.04,84.14 C186.01,90.34 198.86,97.59 209.84,103.79 \" fill=\"none\" id=\"E3-E5\" style=\"stroke: #383838; stroke-width: 3.0;\"/><text fill=\"#000000\" font-family=\"sans-serif\" font-size=\"13\" lengthAdjust=\"spacingAndGlyphs\" textLength=\"7\" x=\"194.9715\" y=\"97.1639\">*</text></a><!--MD5=[ec9844e0c75763426927cad3229d1081]\n",
       "link E3 to E6--><a href=\"psysml:72969d3f-078e-4607-bdb1-687a59bf245f\" target=\"_top\" title=\"psysml:72969d3f-078e-4607-bdb1-687a59bf245f\" xlink:actuate=\"onRequest\" xlink:href=\"psysml:72969d3f-078e-4607-bdb1-687a59bf245f\" xlink:show=\"new\" xlink:title=\"psysml:72969d3f-078e-4607-bdb1-687a59bf245f\" xlink:type=\"simple\"><path d=\"M175.01,82.55 C180.8,85.03 187.02,87.37 193,89 C229.69,99.02 241.35,88.82 278,99 C283.55,100.54 289.3,102.72 294.7,105.05 \" fill=\"none\" id=\"E3-E6\" style=\"stroke: #383838; stroke-width: 3.0;\"/><text fill=\"#000000\" font-family=\"sans-serif\" font-size=\"13\" lengthAdjust=\"spacingAndGlyphs\" textLength=\"7\" x=\"279.96\" y=\"96.3701\">*</text></a><!--MD5=[79bc8f324ef4d02c541433f2e6e513c3]\n",
       "link E7 to E8--><a href=\"psysml:d0feff6d-b769-4930-89dd-5ba6511dc887\" target=\"_top\" title=\"psysml:d0feff6d-b769-4930-89dd-5ba6511dc887\" xlink:actuate=\"onRequest\" xlink:href=\"psysml:d0feff6d-b769-4930-89dd-5ba6511dc887\" xlink:show=\"new\" xlink:title=\"psysml:d0feff6d-b769-4930-89dd-5ba6511dc887\" xlink:type=\"simple\"><path d=\"M65,89.25 C65,92.38 65,95.62 65,98.75 \" fill=\"none\" id=\"E7-E8\" style=\"stroke: #383838; stroke-width: 3.0;\"/><text fill=\"#000000\" font-family=\"sans-serif\" font-size=\"13\" lengthAdjust=\"spacingAndGlyphs\" textLength=\"7\" x=\"48.0261\" y=\"88.1617\">*</text></a><!--MD5=[ed10624c06dd9a4fa49ccf290e8b16a8]\n",
       "link E8 to E9--><a href=\"psysml:d7ec22b5-65ee-42ba-bc78-7bd946aa4292\" target=\"_top\" title=\"psysml:d7ec22b5-65ee-42ba-bc78-7bd946aa4292\" xlink:actuate=\"onRequest\" xlink:href=\"psysml:d7ec22b5-65ee-42ba-bc78-7bd946aa4292\" xlink:show=\"new\" xlink:title=\"psysml:d7ec22b5-65ee-42ba-bc78-7bd946aa4292\" xlink:type=\"simple\"><path d=\"M65,139.25 C65,142.38 65,145.62 65,148.75 \" fill=\"none\" id=\"E8-E9\" style=\"stroke: #383838; stroke-width: 3.0;\"/><text fill=\"#000000\" font-family=\"sans-serif\" font-size=\"13\" lengthAdjust=\"spacingAndGlyphs\" textLength=\"7\" x=\"48.0261\" y=\"138.1617\">*</text></a><!--MD5=[35e5f1cbde42fa304a029880aa2bc7f2]\n",
       "link E9 to E10--><a href=\"psysml:02cdd122-f9cf-4b67-915c-76392b8d39b5\" target=\"_top\" title=\"psysml:02cdd122-f9cf-4b67-915c-76392b8d39b5\" xlink:actuate=\"onRequest\" xlink:href=\"psysml:02cdd122-f9cf-4b67-915c-76392b8d39b5\" xlink:show=\"new\" xlink:title=\"psysml:02cdd122-f9cf-4b67-915c-76392b8d39b5\" xlink:type=\"simple\"><path d=\"M52.47,189.25 C52.18,192.38 52.18,195.62 52.47,198.75 \" fill=\"none\" id=\"E9-E10\" style=\"stroke: #383838; stroke-width: 3.0;\"/><text fill=\"#000000\" font-family=\"sans-serif\" font-size=\"13\" lengthAdjust=\"spacingAndGlyphs\" textLength=\"7\" x=\"24.919\" y=\"202.5522\">*</text></a><!--MD5=[8ec49671253aadf7ca733db3c87e82a8]\n",
       "link E10 to E9--><a href=\"psysml:b4c678ac-d13c-4fcb-a60b-8a8aa7dbd30d\" target=\"_top\" title=\"psysml:b4c678ac-d13c-4fcb-a60b-8a8aa7dbd30d\" xlink:actuate=\"onRequest\" xlink:href=\"psysml:b4c678ac-d13c-4fcb-a60b-8a8aa7dbd30d\" xlink:show=\"new\" xlink:title=\"psysml:b4c678ac-d13c-4fcb-a60b-8a8aa7dbd30d\" xlink:type=\"simple\"><path d=\"M78.26,198.75 C78.58,195.62 78.58,192.38 78.26,189.25 \" fill=\"none\" id=\"E10-E9\" style=\"stroke: #383838; stroke-width: 3.0;\"/><text fill=\"#000000\" font-family=\"sans-serif\" font-size=\"13\" lengthAdjust=\"spacingAndGlyphs\" textLength=\"7\" x=\"92.4499\" y=\"187.9589\">*</text></a><!--MD5=[211124029f8d90d89da20960a30e5017]\n",
       "link E10 to E8--><a href=\"psysml:7e967ca0-8200-4db5-a84f-70433aa3e44b\" target=\"_top\" title=\"psysml:7e967ca0-8200-4db5-a84f-70433aa3e44b\" xlink:actuate=\"onRequest\" xlink:href=\"psysml:7e967ca0-8200-4db5-a84f-70433aa3e44b\" xlink:show=\"new\" xlink:title=\"psysml:7e967ca0-8200-4db5-a84f-70433aa3e44b\" xlink:type=\"simple\"><path d=\"M90.09,206.84 C97.17,202.37 104.03,196.47 108,189 C116.35,173.3 116.35,164.7 108,149 C104.03,141.53 97.17,135.63 90.09,131.16 \" fill=\"none\" id=\"E10-E8\" style=\"stroke: #383838; stroke-width: 3.0;\"/><text fill=\"#000000\" font-family=\"sans-serif\" font-size=\"13\" lengthAdjust=\"spacingAndGlyphs\" textLength=\"7\" x=\"98.1309\" y=\"129.5562\">*</text></a><!--MD5=[a3668bbae0ef4c188d49762c8b472f22]\n",
       "@startuml\r\n",
       "skinparam ranksep 10\r\n",
       "skinparam rectangle {\r\n",
       " backgroundColor<<block>> LightGreen\r\n",
       "}\r\n",
       "skinparam monochrome true\r\n",
       "skinparam classbackgroundcolor white\r\n",
       "skinparam shadowing false\r\n",
       "skinparam wrapWidth 300\r\n",
       "hide circle\r\n",
       "\r\n",
       "package \"Tracing_FilterExample\" as E1  [[psysml:02bd8674-7b42-42c4-86fa-56bda48ef1f1 ]]  {\r\n",
       "rec usage \"end1\" as E3  [[psysml:7d9bd7cc-9bd6-4961-a8f8-d3e24d93782e ]] {\r\n",
       "}\r\n",
       "rec usage \"end2\" as E4  [[psysml:dc2bd3cb-1b6b-44cb-ae64-f98f31c3e192 ]] {\r\n",
       "}\r\n",
       "rec usage \"end3\" as E5  [[psysml:98a23b60-9dda-4be5-9c98-beea7eac82b4 ]] {\r\n",
       "}\r\n",
       "rec usage \"end4\" as E6  [[psysml:f29267f1-9e7a-4013-9670-8d7c293049f1 ]] {\r\n",
       "}\r\n",
       "rec usage \"end5\" as E7  [[psysml:782134ae-4ce2-4287-aa9c-58aa90aab275 ]] {\r\n",
       "}\r\n",
       "rec usage \"end6\" as E8  [[psysml:5f377213-c7ac-479f-be9f-694eaa7e16e3 ]] {\r\n",
       "}\r\n",
       "rec usage \"end7\" as E9  [[psysml:ea540eed-24bf-4192-9bc6-2e2b4b60152b ]] {\r\n",
       "}\r\n",
       "rec usage \"end8\" as E10  [[psysml:ce838c76-9a57-421d-8b06-3f2bf5199a3b ]] {\r\n",
       "}\r\n",
       "note as E2\r\n",
       "[[psysml:f52b642a-cf9b-4f62-9371-89992da03acf @]]Elements of the system.\r\n",
       "end note \r\n",
       "note as E11\r\n",
       "[[psysml:e0eb5455-2b97-4738-9202-3e87f1d7945e @]]Trace links\r\n",
       "end note \r\n",
       "E2 .. E1 [[psysml:f52b642a-cf9b-4f62-9371-89992da03acf ]] \r\n",
       "E11 .. E1 [[psysml:e0eb5455-2b97-4738-9202-3e87f1d7945e ]] \r\n",
       "E3 -[thickness=3]- \"*\"E4 [[psysml:b8d7f244-4986-4588-8d26-801b8e978401 ]] \r\n",
       "E3 -[thickness=3]- \"*\"E5 [[psysml:0608b91b-2e31-4051-bd5d-cb1806f5ff22 ]] \r\n",
       "E3 -[thickness=3]- \"*\"E6 [[psysml:72969d3f-078e-4607-bdb1-687a59bf245f ]] \r\n",
       "E7 -[thickness=3]- \"*\"E8 [[psysml:d0feff6d-b769-4930-89dd-5ba6511dc887 ]] \r\n",
       "E8 -[thickness=3]- \"*\"E9 [[psysml:d7ec22b5-65ee-42ba-bc78-7bd946aa4292 ]] \r\n",
       "E9 -[thickness=3]- \"*\"E10 [[psysml:02cdd122-f9cf-4b67-915c-76392b8d39b5 ]] \r\n",
       "E10 -[thickness=3]- \"*\"E9 [[psysml:b4c678ac-d13c-4fcb-a60b-8a8aa7dbd30d ]] \r\n",
       "E10 -[thickness=3]- \"*\"E8 [[psysml:7e967ca0-8200-4db5-a84f-70433aa3e44b ]] \r\n",
       "}\r\n",
       "@enduml\r\n",
       "\n",
       "PlantUML version 1.2020.13(Sat Jun 13 12:26:38 UTC 2020)\n",
       "(EPL source distribution)\n",
       "Java Runtime: OpenJDK Runtime Environment\n",
       "JVM: OpenJDK 64-Bit Server VM\n",
       "Default Encoding: UTF-8\n",
       "Language: en\n",
       "Country: null\n",
       "--></g></svg>"
      ]
     },
     "execution_count": 108,
     "metadata": {},
     "output_type": "execute_result"
    }
   ],
   "source": [
    "%viz Tracing_FilterExample"
   ]
  },
  {
   "cell_type": "code",
   "execution_count": 109,
   "metadata": {},
   "outputs": [
    {
     "data": {
      "text/plain": [
       "Comment (10a18e15-bd50-41f0-ba4e-68b48c2ef07f)\n",
       "Package ConfidenceLevel (21cbb28a-fd80-4d2e-83fc-a8231ee81d87)\n"
      ]
     },
     "execution_count": 109,
     "metadata": {},
     "output_type": "execute_result"
    }
   ],
   "source": [
    "\t\n",
    "import TracingAnnotations::*;\n",
    "\t/* Filter example - full notation */\n",
    "\tpackage ConfidenceLevel {\n",
    "\t\t/* Connections that satisfy a threshold confidence level (0.5). */\n",
    "        import Tracing_FilterExample::**;\n",
    "        filter @ConfidenceTracing && ConfidenceTracing::confidence >= 0.5;\n",
    "    }"
   ]
  },
  {
   "cell_type": "code",
   "execution_count": 110,
   "metadata": {},
   "outputs": [
    {
     "data": {
      "text/plain": [
       "Comment (8e5016c1-0ad9-43d9-a015-2e3d2e96fca1)\n",
       "OperatorExpression (8ffa4d48-f0b6-4a80-9a65-702709ab49bc)\n",
       "AnnotatingFeature (2e97065b-3efb-4e8c-ac5a-8a2ea549e111)\n",
       "AnnotatingFeature (23a2997e-3d44-4083-b2c6-7ccc51480572)\n",
       "AnnotatingFeature (1f4ce9c0-6750-4fa4-af08-d16ddeea62b1)\n",
       "AnnotatingFeature (c5e10992-5147-447d-82fc-7ef29f263d4f)\n",
       "AnnotatingFeature (d5722387-b28c-4736-bf85-294daa89ea5b)\n",
       "ConnectionUsage testLink55 (c561dd6d-341c-46bc-9804-4e04bb9426dc)\n",
       "ConnectionUsage testLink65 (38824a98-873d-4028-a78f-0431f8f4f1ec)\n",
       "ConnectionUsage testLink75 (b1cd5ca9-303c-43ad-b69b-25c0d139fc93)\n",
       "ConnectionUsage testLink85 (756144e7-4689-4cda-9be9-a1c2090fba17)\n",
       "ConnectionUsage testLink95 (64b85b55-cdcd-443e-9b46-399d696eeaef)\n"
      ]
     },
     "execution_count": 110,
     "metadata": {},
     "output_type": "execute_result"
    }
   ],
   "source": [
    "%list ConfidenceLevel::*"
   ]
  },
  {
   "cell_type": "code",
   "execution_count": 5,
   "metadata": {},
   "outputs": [
    {
     "name": "stderr",
     "output_type": "stream",
     "text": [
      "ERROR:Couldn't resolve reference to Element 'test1'. (5.sysml line : 6 column : 61)\n",
      "ERROR:Couldn't resolve reference to Element 'Tracing_FilterExample'. (5.sysml line : 5 column : 16)\n",
      "ERROR:Must be model-level evaluable (5.sysml line : 6 column : 9)\n",
      "ERROR:Must be a valid feature (5.sysml line : 6 column : 50)\n",
      "ERROR:Must be a valid feature (5.sysml line : 6 column : 61)\n",
      "ERROR:Must be a valid feature (5.sysml line : 6 column : 50)\n",
      "ERROR:Must be a valid feature (5.sysml line : 6 column : 61)\n",
      "ERROR:Must be a valid feature (5.sysml line : 6 column : 50)\n",
      "ERROR:Must be a valid feature (5.sysml line : 6 column : 61)\n",
      "ERROR:Must be a valid feature (5.sysml line : 6 column : 50)\n",
      "ERROR:Must be a valid feature (5.sysml line : 6 column : 61)\n",
      "ERROR:Must be a valid feature (5.sysml line : 6 column : 50)\n",
      "ERROR:Must be a valid feature (5.sysml line : 6 column : 61)\n",
      "ERROR:Must be a valid feature (5.sysml line : 6 column : 50)\n",
      "ERROR:Must be a valid feature (5.sysml line : 6 column : 61)\n",
      "ERROR:Must be a valid feature (5.sysml line : 6 column : 50)\n",
      "ERROR:Must be a valid feature (5.sysml line : 6 column : 61)\n",
      "ERROR:Must be a valid feature (5.sysml line : 6 column : 50)\n",
      "ERROR:Must be a valid feature (5.sysml line : 6 column : 61)\n"
     ]
    },
    {
     "data": {
      "text/plain": []
     },
     "execution_count": 5,
     "metadata": {},
     "output_type": "execute_result"
    }
   ],
   "source": [
    "import TracingAnnotations::*;\n",
    "\t/* Filter example - full notation */\n",
    "\tpackage ConfidenceLevelnType {\n",
    "\t\t/* Connections that satisfy a threshold confidence level (0.5). */\n",
    "        import Tracing_FilterExample::**;\n",
    "        filter @TraceType && @TraceType::type == TraceTypes.test1;\n",
    "    }"
   ]
  },
  {
   "cell_type": "code",
   "execution_count": 6,
   "metadata": {},
   "outputs": [
    {
     "data": {
      "text/plain": [
       "ERROR:Couldn't resolve reference to Namespace 'ConfidenceLevelnType::'. (6.sysml line : 1 column : 8)\n"
      ]
     },
     "execution_count": 6,
     "metadata": {},
     "output_type": "execute_result"
    }
   ],
   "source": [
    "%list ConfidenceLevelnType::*"
   ]
  },
  {
   "cell_type": "code",
   "execution_count": 10,
   "metadata": {},
   "outputs": [
    {
     "data": {
      "text/plain": [
       "ERROR:Couldn't resolve reference to Element 'end1'\n"
      ]
     },
     "execution_count": 10,
     "metadata": {},
     "output_type": "execute_result"
    }
   ],
   "source": [
    "%viz -h"
   ]
  }
 ],
 "metadata": {
  "kernelspec": {
   "display_name": "SysML",
   "language": "sysml",
   "name": "sysml"
  },
  "language_info": {
   "codemirror_mode": "sysml",
   "file_extension": ".sysml",
   "mimetype": "text/x-sysml",
   "name": "SysML",
   "pygments_lexer": "java",
   "version": "1.0.0"
  }
 },
 "nbformat": 4,
 "nbformat_minor": 4
}
