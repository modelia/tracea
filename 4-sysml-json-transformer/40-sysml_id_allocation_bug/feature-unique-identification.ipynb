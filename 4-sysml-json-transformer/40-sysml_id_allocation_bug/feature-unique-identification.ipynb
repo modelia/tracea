{
 "cells": [
  {
   "cell_type": "markdown",
   "metadata": {},
   "source": [
    "This notebook shows an unexpected behavior: the same feature has different IDs when used in different connections."
   ]
  },
  {
   "cell_type": "code",
   "execution_count": 11,
   "metadata": {},
   "outputs": [
    {
     "data": {
      "text/plain": [
       "Package Feature-ID-allocation (71b62669-126b-45a5-a657-1789545e1e84)\n"
      ]
     },
     "execution_count": 11,
     "metadata": {},
     "output_type": "execute_result"
    }
   ],
   "source": [
    "package 'Feature-ID-allocation' {\n",
    "\timport Base::*;\n",
    "    part eDrone {    \n",
    "        part body;\n",
    "        part battery {\n",
    "            attribute capacity ;\n",
    "            port powerOut ;\n",
    "        }\n",
    "        part engine {\n",
    "            port powerIn ;\n",
    "        }\n",
    "    }\n",
    "    connection bod2bat   connect eDrone.body to eDrone.battery;\n",
    "    connection bod2eng   connect eDrone.body to eDrone.engine;\n",
    "}"
   ]
  },
  {
   "cell_type": "code",
   "execution_count": 12,
   "metadata": {},
   "outputs": [
    {
     "data": {
      "image/svg+xml": [
       "<?xml version=\"1.0\" encoding=\"UTF-8\" standalone=\"no\"?><svg xmlns=\"http://www.w3.org/2000/svg\" xmlns:xlink=\"http://www.w3.org/1999/xlink\" contentScriptType=\"application/ecmascript\" contentStyleType=\"text/css\" height=\"463px\" preserveAspectRatio=\"none\" style=\"width:227px;height:463px;\" version=\"1.1\" viewBox=\"0 0 227 463\" width=\"227px\" zoomAndPan=\"magnify\"><defs/><g><!--MD5=[fbc87193dbaf4d95561dea2c320d4a47]\n",
       "cluster E1--><a href=\"psysml:d07a646c-e267-4e6c-9472-8d806983fa04\" target=\"_top\" title=\"psysml:d07a646c-e267-4e6c-9472-8d806983fa04\" xlink:actuate=\"onRequest\" xlink:href=\"psysml:d07a646c-e267-4e6c-9472-8d806983fa04\" xlink:show=\"new\" xlink:title=\"psysml:d07a646c-e267-4e6c-9472-8d806983fa04\" xlink:type=\"simple\"><polygon fill=\"#FFFFFF\" points=\"16,6,164,6,171,28.2969,205,28.2969,205,451,16,451,16,6\" style=\"stroke: #000000; stroke-width: 1.5;\"/><line style=\"stroke: #000000; stroke-width: 1.5;\" x1=\"16\" x2=\"171\" y1=\"28.2969\" y2=\"28.2969\"/><text fill=\"#000000\" font-family=\"sans-serif\" font-size=\"14\" font-weight=\"bold\" lengthAdjust=\"spacingAndGlyphs\" textLength=\"142\" x=\"20\" y=\"20.9951\">Feature-ID-allocation</text></a><!--MD5=[b4997ac47864f28c2f74865a473b2911]\n",
       "class E2--><a href=\"psysml:addcf547-46e2-463c-8664-b9068937f3dd\" target=\"_top\" title=\"psysml:addcf547-46e2-463c-8664-b9068937f3dd\" xlink:actuate=\"onRequest\" xlink:href=\"psysml:addcf547-46e2-463c-8664-b9068937f3dd\" xlink:show=\"new\" xlink:title=\"psysml:addcf547-46e2-463c-8664-b9068937f3dd\" xlink:type=\"simple\"><rect fill=\"#FFFFFF\" height=\"45.9375\" id=\"E2\" rx=\"10\" ry=\"10\" style=\"stroke: #383838; stroke-width: 1.5;\" width=\"52\" x=\"87\" y=\"41\"/><text fill=\"#000000\" font-family=\"sans-serif\" font-size=\"12\" font-style=\"italic\" lengthAdjust=\"spacingAndGlyphs\" textLength=\"40\" x=\"93\" y=\"57.1387\">«part»</text><text fill=\"#000000\" font-family=\"sans-serif\" font-size=\"12\" lengthAdjust=\"spacingAndGlyphs\" textLength=\"46\" x=\"90\" y=\"71.1074\">eDrone</text><line style=\"stroke: #383838; stroke-width: 1.5;\" x1=\"88\" x2=\"138\" y1=\"78.9375\" y2=\"78.9375\"/></a><!--MD5=[09b614a08d8cba4a07c9adeb5e0fee81]\n",
       "class E3--><a href=\"psysml:a345eddd-ee3f-4777-a9f0-e03827cbb804\" target=\"_top\" title=\"psysml:a345eddd-ee3f-4777-a9f0-e03827cbb804\" xlink:actuate=\"onRequest\" xlink:href=\"psysml:a345eddd-ee3f-4777-a9f0-e03827cbb804\" xlink:show=\"new\" xlink:title=\"psysml:a345eddd-ee3f-4777-a9f0-e03827cbb804\" xlink:type=\"simple\"><rect fill=\"#FFFFFF\" height=\"45.9375\" id=\"E3\" rx=\"10\" ry=\"10\" style=\"stroke: #383838; stroke-width: 1.5;\" width=\"42\" x=\"92\" y=\"147\"/><text fill=\"#000000\" font-family=\"sans-serif\" font-size=\"12\" font-style=\"italic\" lengthAdjust=\"spacingAndGlyphs\" textLength=\"40\" x=\"93\" y=\"163.1387\">«part»</text><text fill=\"#000000\" font-family=\"sans-serif\" font-size=\"12\" lengthAdjust=\"spacingAndGlyphs\" textLength=\"30\" x=\"98\" y=\"177.1074\">body</text><line style=\"stroke: #383838; stroke-width: 1.5;\" x1=\"93\" x2=\"133\" y1=\"184.9375\" y2=\"184.9375\"/></a><!--MD5=[ebbe1d658d1005bcc118a6aa81145e00]\n",
       "class E4--><a href=\"psysml:5d34aecf-1ac9-48a1-bb3e-38b6ca3b3829\" target=\"_top\" title=\"psysml:5d34aecf-1ac9-48a1-bb3e-38b6ca3b3829\" xlink:actuate=\"onRequest\" xlink:href=\"psysml:5d34aecf-1ac9-48a1-bb3e-38b6ca3b3829\" xlink:show=\"new\" xlink:title=\"psysml:5d34aecf-1ac9-48a1-bb3e-38b6ca3b3829\" xlink:type=\"simple\"><rect fill=\"#FFFFFF\" height=\"75.5469\" id=\"E4\" rx=\"10\" ry=\"10\" style=\"stroke: #383838; stroke-width: 1.5;\" width=\"63\" x=\"33.5\" y=\"253\"/><text fill=\"#000000\" font-family=\"sans-serif\" font-size=\"12\" font-style=\"italic\" lengthAdjust=\"spacingAndGlyphs\" textLength=\"40\" x=\"45\" y=\"269.1387\">«part»</text><text fill=\"#000000\" font-family=\"sans-serif\" font-size=\"12\" lengthAdjust=\"spacingAndGlyphs\" textLength=\"45\" x=\"42.5\" y=\"283.1074\">battery</text><line style=\"stroke: #383838; stroke-width: 1.5;\" x1=\"34.5\" x2=\"95.5\" y1=\"290.9375\" y2=\"290.9375\"/><text fill=\"#000000\" font-family=\"sans-serif\" font-size=\"11\" lengthAdjust=\"spacingAndGlyphs\" textLength=\"46\" x=\"39.5\" y=\"321.9526\">capacity</text><line style=\"stroke: #383838; stroke-width: 1.0;\" x1=\"34.5\" x2=\"37.5\" y1=\"305.3398\" y2=\"305.3398\"/><text fill=\"#000000\" font-family=\"sans-serif\" font-size=\"11\" lengthAdjust=\"spacingAndGlyphs\" textLength=\"55\" x=\"37.5\" y=\"308.6479\">attributes</text><line style=\"stroke: #383838; stroke-width: 1.0;\" x1=\"92.5\" x2=\"95.5\" y1=\"305.3398\" y2=\"305.3398\"/></a><!--MD5=[270fce915f116d4de14055a7c1d9a0f3]\n",
       "class E5--><a href=\"psysml:d0b74356-b72a-42fa-8599-cfd30b7a52a7\" target=\"_top\" title=\"psysml:d0b74356-b72a-42fa-8599-cfd30b7a52a7\" xlink:actuate=\"onRequest\" xlink:href=\"psysml:d0b74356-b72a-42fa-8599-cfd30b7a52a7\" xlink:show=\"new\" xlink:title=\"psysml:d0b74356-b72a-42fa-8599-cfd30b7a52a7\" xlink:type=\"simple\"><rect fill=\"#FFFFFF\" height=\"45.9375\" id=\"E5\" rx=\"10\" ry=\"10\" style=\"stroke: #383838; stroke-width: 1.5;\" width=\"66\" x=\"32\" y=\"389\"/><text fill=\"#000000\" font-family=\"sans-serif\" font-size=\"12\" font-style=\"italic\" lengthAdjust=\"spacingAndGlyphs\" textLength=\"40\" x=\"45\" y=\"405.1387\">«port»</text><text fill=\"#000000\" font-family=\"sans-serif\" font-size=\"12\" lengthAdjust=\"spacingAndGlyphs\" textLength=\"60\" x=\"35\" y=\"419.1074\">powerOut</text><line style=\"stroke: #383838; stroke-width: 1.5;\" x1=\"33\" x2=\"97\" y1=\"426.9375\" y2=\"426.9375\"/></a><!--MD5=[60a26617385b1d2d0262a64233df1f8d]\n",
       "class E6--><a href=\"psysml:a341e938-1962-4684-ab10-134d22577600\" target=\"_top\" title=\"psysml:a341e938-1962-4684-ab10-134d22577600\" xlink:actuate=\"onRequest\" xlink:href=\"psysml:a341e938-1962-4684-ab10-134d22577600\" xlink:show=\"new\" xlink:title=\"psysml:a341e938-1962-4684-ab10-134d22577600\" xlink:type=\"simple\"><rect fill=\"#FFFFFF\" height=\"45.9375\" id=\"E6\" rx=\"10\" ry=\"10\" style=\"stroke: #383838; stroke-width: 1.5;\" width=\"49\" x=\"136.5\" y=\"268\"/><text fill=\"#000000\" font-family=\"sans-serif\" font-size=\"12\" font-style=\"italic\" lengthAdjust=\"spacingAndGlyphs\" textLength=\"40\" x=\"141\" y=\"284.1387\">«part»</text><text fill=\"#000000\" font-family=\"sans-serif\" font-size=\"12\" lengthAdjust=\"spacingAndGlyphs\" textLength=\"43\" x=\"139.5\" y=\"298.1074\">engine</text><line style=\"stroke: #383838; stroke-width: 1.5;\" x1=\"137.5\" x2=\"184.5\" y1=\"305.9375\" y2=\"305.9375\"/></a><!--MD5=[2156ba9850f5573cc1fc38a6a4b2f02b]\n",
       "class E7--><a href=\"psysml:3c68f9d8-c1a6-4208-af3f-fb9bde0e6c21\" target=\"_top\" title=\"psysml:3c68f9d8-c1a6-4208-af3f-fb9bde0e6c21\" xlink:actuate=\"onRequest\" xlink:href=\"psysml:3c68f9d8-c1a6-4208-af3f-fb9bde0e6c21\" xlink:show=\"new\" xlink:title=\"psysml:3c68f9d8-c1a6-4208-af3f-fb9bde0e6c21\" xlink:type=\"simple\"><rect fill=\"#FFFFFF\" height=\"45.9375\" id=\"E7\" rx=\"10\" ry=\"10\" style=\"stroke: #383838; stroke-width: 1.5;\" width=\"55\" x=\"133.5\" y=\"389\"/><text fill=\"#000000\" font-family=\"sans-serif\" font-size=\"12\" font-style=\"italic\" lengthAdjust=\"spacingAndGlyphs\" textLength=\"40\" x=\"141\" y=\"405.1387\">«port»</text><text fill=\"#000000\" font-family=\"sans-serif\" font-size=\"12\" lengthAdjust=\"spacingAndGlyphs\" textLength=\"49\" x=\"136.5\" y=\"419.1074\">powerIn</text><line style=\"stroke: #383838; stroke-width: 1.5;\" x1=\"134.5\" x2=\"187.5\" y1=\"426.9375\" y2=\"426.9375\"/></a><!--MD5=[209b3feb70ccb6233bfe1053d122c12c]\n",
       "reverse link E2 to E3--><a href=\"psysml:d0e38935-21fa-4d98-bb1d-0b3dcaa8d172\" target=\"_top\" title=\"psysml:d0e38935-21fa-4d98-bb1d-0b3dcaa8d172\" xlink:actuate=\"onRequest\" xlink:href=\"psysml:d0e38935-21fa-4d98-bb1d-0b3dcaa8d172\" xlink:show=\"new\" xlink:title=\"psysml:d0e38935-21fa-4d98-bb1d-0b3dcaa8d172\" xlink:type=\"simple\"><path d=\"M113,100.44 C113,115.87 113,133.47 113,146.98 \" fill=\"none\" id=\"E2&lt;-E3\" style=\"stroke: #383838; stroke-width: 1.0;\"/><polygon fill=\"#383838\" points=\"113,87.06,109,93.06,113,99.06,117,93.06,113,87.06\" style=\"stroke: #383838; stroke-width: 1.0;\"/><text fill=\"#000000\" font-family=\"sans-serif\" font-size=\"13\" lengthAdjust=\"spacingAndGlyphs\" textLength=\"8\" x=\"103.925\" y=\"135.8709\">1</text></a><!--MD5=[9618e71518536f8baf3342ff6fdab317]\n",
       "reverse link E2 to E4--><a href=\"psysml:0ae94d12-c534-4146-a659-12f2711f7529\" target=\"_top\" title=\"psysml:0ae94d12-c534-4146-a659-12f2711f7529\" xlink:actuate=\"onRequest\" xlink:href=\"psysml:0ae94d12-c534-4146-a659-12f2711f7529\" xlink:show=\"new\" xlink:title=\"psysml:0ae94d12-c534-4146-a659-12f2711f7529\" xlink:type=\"simple\"><path d=\"M93.87,98.96 C86.69,113.34 79.23,130.55 75,147 C65.94,182.19 63.97,223.75 63.94,252.97 \" fill=\"none\" id=\"E2&lt;-E4\" style=\"stroke: #383838; stroke-width: 1.0;\"/><polygon fill=\"#383838\" points=\"100.04,87.15,93.7184,90.6195,94.4897,97.7893,100.8112,94.3197,100.04,87.15\" style=\"stroke: #383838; stroke-width: 1.0;\"/><text fill=\"#000000\" font-family=\"sans-serif\" font-size=\"13\" lengthAdjust=\"spacingAndGlyphs\" textLength=\"8\" x=\"55.0387\" y=\"241.979\">1</text></a><!--MD5=[62aa6af11e70f752912c1cb0466f24f7]\n",
       "reverse link E4 to E5--><a href=\"psysml:cb4f0ac1-3250-4ef6-80b6-8fae5418eb7a\" target=\"_top\" title=\"psysml:cb4f0ac1-3250-4ef6-80b6-8fae5418eb7a\" xlink:actuate=\"onRequest\" xlink:href=\"psysml:cb4f0ac1-3250-4ef6-80b6-8fae5418eb7a\" xlink:show=\"new\" xlink:title=\"psysml:cb4f0ac1-3250-4ef6-80b6-8fae5418eb7a\" xlink:type=\"simple\"><path d=\"M65,342.34 C65,358.61 65,375.81 65,388.93 \" fill=\"none\" id=\"E4&lt;-E5\" style=\"stroke: #383838; stroke-width: 1.0;\"/><polygon fill=\"#FFFFFF\" points=\"65,329,61,335,65,341,69,335,65,329\" style=\"stroke: #383838; stroke-width: 1.0;\"/><text fill=\"#000000\" font-family=\"sans-serif\" font-size=\"13\" lengthAdjust=\"spacingAndGlyphs\" textLength=\"8\" x=\"55.925\" y=\"377.8075\">1</text></a><!--MD5=[ce036f65110ae2351ccce5a81dc2e928]\n",
       "reverse link E2 to E6--><a href=\"psysml:d26497f4-e10c-498c-8d74-f4a2b3398ba2\" target=\"_top\" title=\"psysml:d26497f4-e10c-498c-8d74-f4a2b3398ba2\" xlink:actuate=\"onRequest\" xlink:href=\"psysml:d26497f4-e10c-498c-8d74-f4a2b3398ba2\" xlink:show=\"new\" xlink:title=\"psysml:d26497f4-e10c-498c-8d74-f4a2b3398ba2\" xlink:type=\"simple\"><path d=\"M132.7,98.89 C140.08,113.26 147.72,130.48 152,147 C162.79,188.66 163.11,239.32 162.18,267.79 \" fill=\"none\" id=\"E2&lt;-E6\" style=\"stroke: #383838; stroke-width: 1.0;\"/><polygon fill=\"#383838\" points=\"126.36,87.09,125.6768,94.2687,132.0406,97.6603,132.7237,90.4816,126.36,87.09\" style=\"stroke: #383838; stroke-width: 1.0;\"/><text fill=\"#000000\" font-family=\"sans-serif\" font-size=\"13\" lengthAdjust=\"spacingAndGlyphs\" textLength=\"8\" x=\"153.4574\" y=\"257.0125\">1</text></a><!--MD5=[3f50a3473f1dfb74d3f76443e03635af]\n",
       "reverse link E6 to E7--><a href=\"psysml:2b02c202-08e6-45a5-891c-88af9c8e26bd\" target=\"_top\" title=\"psysml:2b02c202-08e6-45a5-891c-88af9c8e26bd\" xlink:actuate=\"onRequest\" xlink:href=\"psysml:2b02c202-08e6-45a5-891c-88af9c8e26bd\" xlink:show=\"new\" xlink:title=\"psysml:2b02c202-08e6-45a5-891c-88af9c8e26bd\" xlink:type=\"simple\"><path d=\"M161,327.33 C161,347.18 161,371.36 161,388.61 \" fill=\"none\" id=\"E6&lt;-E7\" style=\"stroke: #383838; stroke-width: 1.0;\"/><polygon fill=\"#FFFFFF\" points=\"161,314.1,157,320.1,161,326.1,165,320.1,161,314.1\" style=\"stroke: #383838; stroke-width: 1.0;\"/><text fill=\"#000000\" font-family=\"sans-serif\" font-size=\"13\" lengthAdjust=\"spacingAndGlyphs\" textLength=\"8\" x=\"151.975\" y=\"377.7864\">1</text></a><!--MD5=[af87c684e3b0d8be13c1a698a818ef1e]\n",
       "link E3 to E4--><a href=\"psysml:81cf4bd2-fc7e-4b4d-aff9-258d7e928608\" target=\"_top\" title=\"psysml:81cf4bd2-fc7e-4b4d-aff9-258d7e928608\" xlink:actuate=\"onRequest\" xlink:href=\"psysml:81cf4bd2-fc7e-4b4d-aff9-258d7e928608\" xlink:show=\"new\" xlink:title=\"psysml:81cf4bd2-fc7e-4b4d-aff9-258d7e928608\" xlink:type=\"simple\"><path d=\"M104.08,193.1 C97.36,209.77 87.98,233.03 80.09,252.58 \" fill=\"none\" id=\"E3-E4\" style=\"stroke: #383838; stroke-width: 3.0;\"/><text fill=\"#000000\" font-family=\"sans-serif\" font-size=\"13\" lengthAdjust=\"spacingAndGlyphs\" textLength=\"7\" x=\"75.082\" y=\"241.8047\">*</text></a><!--MD5=[ec9844e0c75763426927cad3229d1081]\n",
       "link E3 to E6--><a href=\"psysml:8ce41e02-1a8a-442e-ba1e-a2a8f05696c6\" target=\"_top\" title=\"psysml:8ce41e02-1a8a-442e-ba1e-a2a8f05696c6\" xlink:actuate=\"onRequest\" xlink:href=\"psysml:8ce41e02-1a8a-442e-ba1e-a2a8f05696c6\" xlink:show=\"new\" xlink:title=\"psysml:8ce41e02-1a8a-442e-ba1e-a2a8f05696c6\" xlink:type=\"simple\"><path d=\"M121.92,193.1 C130.48,214.34 143.36,246.28 151.97,267.61 \" fill=\"none\" id=\"E3-E6\" style=\"stroke: #383838; stroke-width: 3.0;\"/><text fill=\"#000000\" font-family=\"sans-serif\" font-size=\"13\" lengthAdjust=\"spacingAndGlyphs\" textLength=\"7\" x=\"141.7592\" y=\"256.7864\">*</text></a><!--MD5=[06f01a8f02d19482b799208ad482a769]\n",
       "@startuml\r\n",
       "skinparam monochrome true\r\n",
       "skinparam classbackgroundcolor white\r\n",
       "skinparam shadowing false\r\n",
       "skinparam wrapWidth 300\r\n",
       "hide circle\r\n",
       "\r\n",
       "package \"Feature-ID-allocation\" as E1  [[psysml:d07a646c-e267-4e6c-9472-8d806983fa04 ]]  {\r\n",
       "comp usage \"eDrone\" as E2  <<(T,blue) part>> [[psysml:addcf547-46e2-463c-8664-b9068937f3dd ]] {\r\n",
       "}\r\n",
       "comp usage \"body\" as E3  <<(T,blue) part>> [[psysml:a345eddd-ee3f-4777-a9f0-e03827cbb804 ]] {\r\n",
       "}\r\n",
       "comp usage \"battery\" as E4  <<(T,blue) part>> [[psysml:5d34aecf-1ac9-48a1-bb3e-38b6ca3b3829 ]] {\r\n",
       "- - attributes - -\r\n",
       "capacity\r\n",
       "}\r\n",
       "comp usage \"powerOut\" as E5  <<(T,blue) port>> [[psysml:d0b74356-b72a-42fa-8599-cfd30b7a52a7 ]] {\r\n",
       "}\r\n",
       "comp usage \"engine\" as E6  <<(T,blue) part>> [[psysml:a341e938-1962-4684-ab10-134d22577600 ]] {\r\n",
       "}\r\n",
       "comp usage \"powerIn\" as E7  <<(T,blue) port>> [[psysml:3c68f9d8-c1a6-4208-af3f-fb9bde0e6c21 ]] {\r\n",
       "}\r\n",
       "}\r\n",
       "E2 *- - \"1\"E3 [[psysml:d0e38935-21fa-4d98-bb1d-0b3dcaa8d172 ]] \r\n",
       "E2 *- - \"1\"E4 [[psysml:0ae94d12-c534-4146-a659-12f2711f7529 ]] \r\n",
       "E4 o- - \"1\"E5 [[psysml:cb4f0ac1-3250-4ef6-80b6-8fae5418eb7a ]] \r\n",
       "E2 *- - \"1\"E6 [[psysml:d26497f4-e10c-498c-8d74-f4a2b3398ba2 ]] \r\n",
       "E6 o- - \"1\"E7 [[psysml:2b02c202-08e6-45a5-891c-88af9c8e26bd ]] \r\n",
       "E3 -[thickness=3]- \"*\"E4 [[psysml:81cf4bd2-fc7e-4b4d-aff9-258d7e928608 ]] \r\n",
       "E3 -[thickness=3]- \"*\"E6 [[psysml:8ce41e02-1a8a-442e-ba1e-a2a8f05696c6 ]] \r\n",
       "@enduml\r\n",
       "\n",
       "PlantUML version 1.2020.13(Sat Jun 13 12:26:38 UTC 2020)\n",
       "(EPL source distribution)\n",
       "Java Runtime: OpenJDK Runtime Environment\n",
       "JVM: OpenJDK 64-Bit Server VM\n",
       "Default Encoding: UTF-8\n",
       "Language: en\n",
       "Country: null\n",
       "--></g></svg>"
      ]
     },
     "execution_count": 12,
     "metadata": {},
     "output_type": "execute_result"
    }
   ],
   "source": [
    "%viz --view=tree Feature-ID-allocation"
   ]
  }
 ],
 "metadata": {
  "kernelspec": {
   "display_name": "SysML",
   "language": "sysml",
   "name": "sysml"
  },
  "language_info": {
   "codemirror_mode": "sysml",
   "file_extension": ".sysml",
   "mimetype": "text/x-sysml",
   "name": "SysML",
   "pygments_lexer": "java",
   "version": "1.0.0"
  }
 },
 "nbformat": 4,
 "nbformat_minor": 4
}
